{
  "metadata": {
    "kernelspec": {
      "display_name": "Python 3",
      "name": "python3"
    },
    "language_info": {
      "name": "python",
      "version": "3.10.13",
      "mimetype": "text/x-python",
      "codemirror_mode": {
        "name": "ipython",
        "version": 3
      },
      "pygments_lexer": "ipython3",
      "nbconvert_exporter": "python",
      "file_extension": ".py"
    },
    "kaggle": {
      "accelerator": "gpu",
      "dataSources": [
        {
          "sourceId": 8196933,
          "sourceType": "datasetVersion",
          "datasetId": 4855355
        }
      ],
      "dockerImageVersionId": 30699,
      "isInternetEnabled": true,
      "language": "python",
      "sourceType": "notebook",
      "isGpuEnabled": true
    },
    "colab": {
      "provenance": [],
      "gpuType": "L4"
    },
    "accelerator": "GPU"
  },
  "nbformat_minor": 0,
  "nbformat": 4,
  "cells": [
    {
      "source": [
        "import os\n",
        "import sys\n",
        "from tempfile import NamedTemporaryFile\n",
        "from urllib.request import urlopen\n",
        "from urllib.parse import unquote, urlparse\n",
        "from urllib.error import HTTPError\n",
        "from zipfile import ZipFile\n",
        "import tarfile\n",
        "import shutil\n",
        "\n",
        "CHUNK_SIZE = 40960\n",
        "DATA_SOURCE_MAPPING = '2d-floor-plan-dataset-with-text-descriptions-new:https%3A%2F%2Fstorage.googleapis.com%2Fkaggle-data-sets%2F4855355%2F8196933%2Fbundle%2Farchive.zip%3FX-Goog-Algorithm%3DGOOG4-RSA-SHA256%26X-Goog-Credential%3Dgcp-kaggle-com%2540kaggle-161607.iam.gserviceaccount.com%252F20240503%252Fauto%252Fstorage%252Fgoog4_request%26X-Goog-Date%3D20240503T004506Z%26X-Goog-Expires%3D259200%26X-Goog-SignedHeaders%3Dhost%26X-Goog-Signature%3D95ad6097a2acd1fddf92d8ce31269c054ea5843406bf07dc7ce36f080e96854e89d45f00bca2516898b4968f1c5a5c1e601ff2c531ee89dc1bde834fd66a504cbb75c5f1d775f2c2e7cd88024385f26451f9e21e8b6123ecc42d92c3d658c4e81ffd0a41ad67fb07514dd5fd5815baa56ffedebdbeff16cb1b005109f92041797a885ee380a4968921e78a96e2d09ecec7ebc2c9062d8e74f8ddb00fc0cad8dfc53645308ee5369555c4e131a41eb1b93d00d8bd0fe0aac3b29f3bfe1450cc16c325d3c3f06f888acc64c7614b9a315929678fc35fa44cf7477e3e36497199c649b7f053255ce9c19cf7fb5f4e763a6bfce31b4d07c2022d02ddecf9e974ce55'\n",
        "\n",
        "KAGGLE_INPUT_PATH='/kaggle/input'\n",
        "KAGGLE_WORKING_PATH='/kaggle/working'\n",
        "KAGGLE_SYMLINK='kaggle'\n",
        "\n",
        "!umount /kaggle/input/ 2> /dev/null\n",
        "shutil.rmtree('/kaggle/input', ignore_errors=True)\n",
        "os.makedirs(KAGGLE_INPUT_PATH, 0o777, exist_ok=True)\n",
        "os.makedirs(KAGGLE_WORKING_PATH, 0o777, exist_ok=True)\n",
        "\n",
        "try:\n",
        "  os.symlink(KAGGLE_INPUT_PATH, os.path.join(\"..\", 'input'), target_is_directory=True)\n",
        "except FileExistsError:\n",
        "  pass\n",
        "try:\n",
        "  os.symlink(KAGGLE_WORKING_PATH, os.path.join(\"..\", 'working'), target_is_directory=True)\n",
        "except FileExistsError:\n",
        "  pass\n",
        "\n",
        "for data_source_mapping in DATA_SOURCE_MAPPING.split(','):\n",
        "    directory, download_url_encoded = data_source_mapping.split(':')\n",
        "    download_url = unquote(download_url_encoded)\n",
        "    filename = urlparse(download_url).path\n",
        "    destination_path = os.path.join(KAGGLE_INPUT_PATH, directory)\n",
        "    try:\n",
        "        with urlopen(download_url) as fileres, NamedTemporaryFile() as tfile:\n",
        "            total_length = fileres.headers['content-length']\n",
        "            print(f'Downloading {directory}, {total_length} bytes compressed')\n",
        "            dl = 0\n",
        "            data = fileres.read(CHUNK_SIZE)\n",
        "            while len(data) > 0:\n",
        "                dl += len(data)\n",
        "                tfile.write(data)\n",
        "                done = int(50 * dl / int(total_length))\n",
        "                sys.stdout.write(f\"\\r[{'=' * done}{' ' * (50-done)}] {dl} bytes downloaded\")\n",
        "                sys.stdout.flush()\n",
        "                data = fileres.read(CHUNK_SIZE)\n",
        "            if filename.endswith('.zip'):\n",
        "              with ZipFile(tfile) as zfile:\n",
        "                zfile.extractall(destination_path)\n",
        "            else:\n",
        "              with tarfile.open(tfile.name) as tarfile:\n",
        "                tarfile.extractall(destination_path)\n",
        "            print(f'\\nDownloaded and uncompressed: {directory}')\n",
        "    except HTTPError as e:\n",
        "        print(f'Failed to load (likely expired) {download_url} to path {destination_path}')\n",
        "        continue\n",
        "    except OSError as e:\n",
        "        print(f'Failed to load {download_url} to path {destination_path}')\n",
        "        continue\n",
        "\n",
        "print('Data source import complete.')\n"
      ],
      "metadata": {
        "id": "e9kU1oJo6Yet",
        "outputId": "0a1ad675-547d-4a10-bc29-68b16bdb2478",
        "colab": {
          "base_uri": "https://localhost:8080/"
        }
      },
      "cell_type": "code",
      "outputs": [
        {
          "output_type": "stream",
          "name": "stdout",
          "text": [
            "Downloading 2d-floor-plan-dataset-with-text-descriptions-new, 16912614 bytes compressed\n",
            "[==================================================] 16912614 bytes downloaded\n",
            "Downloaded and uncompressed: 2d-floor-plan-dataset-with-text-descriptions-new\n",
            "Data source import complete.\n"
          ]
        }
      ],
      "execution_count": 53
    },
    {
      "cell_type": "markdown",
      "source": [
        "## Loading Dataframe and Importing Libraries"
      ],
      "metadata": {
        "id": "4-Kdskz06Yew"
      }
    },
    {
      "cell_type": "code",
      "source": [
        "import numpy as np\n",
        "import pandas as pd\n",
        "import os"
      ],
      "metadata": {
        "_uuid": "8f2839f25d086af736a60e9eeb907d3b93b6e0e5",
        "_cell_guid": "b1076dfc-b9ad-4769-8c92-a6c4dae69d19",
        "execution": {
          "iopub.status.busy": "2024-05-02T23:01:37.818887Z",
          "iopub.execute_input": "2024-05-02T23:01:37.819287Z",
          "iopub.status.idle": "2024-05-02T23:01:38.805034Z",
          "shell.execute_reply.started": "2024-05-02T23:01:37.819255Z",
          "shell.execute_reply": "2024-05-02T23:01:38.803849Z"
        },
        "trusted": true,
        "id": "IWdiaoYW6Yex"
      },
      "execution_count": 54,
      "outputs": []
    },
    {
      "cell_type": "code",
      "source": [
        "df = pd.read_pickle(\"/kaggle/input/2d-floor-plan-dataset-with-text-descriptions-new/word_embeddings_dataframe.pkl\")\n",
        "df.head()"
      ],
      "metadata": {
        "execution": {
          "iopub.status.busy": "2024-05-02T23:01:51.881542Z",
          "iopub.execute_input": "2024-05-02T23:01:51.881987Z",
          "iopub.status.idle": "2024-05-02T23:01:52.17648Z",
          "shell.execute_reply.started": "2024-05-02T23:01:51.88195Z",
          "shell.execute_reply": "2024-05-02T23:01:52.175342Z"
        },
        "trusted": true,
        "id": "LGeO4vM06Yex",
        "outputId": "122e6c16-8eaa-4975-afc0-2de61c3b7410",
        "colab": {
          "base_uri": "https://localhost:8080/",
          "height": 206
        }
      },
      "execution_count": 55,
      "outputs": [
        {
          "output_type": "execute_result",
          "data": {
            "text/plain": [
              "  File_Name                                               Text  \\\n",
              "0     10017  The balcony juts out on the south side, with t...   \n",
              "1     10042  The balcony is in the southeastern corner of t...   \n",
              "2     10045  bathroom is in north side of the house, next t...   \n",
              "3     10047  The balcony is in the north east corner, just ...   \n",
              "4     10052  The balcony is on the southwest side of the ap...   \n",
              "\n",
              "                     Image_Path  \\\n",
              "0  ../floorplan_image\\10017.png   \n",
              "1  ../floorplan_image\\10042.png   \n",
              "2  ../floorplan_image\\10045.png   \n",
              "3  ../floorplan_image\\10047.png   \n",
              "4  ../floorplan_image\\10052.png   \n",
              "\n",
              "                                     BERT_Embeddings  \n",
              "0  [[-0.6216691, -0.029034398, 0.045137372, -0.09...  \n",
              "1  [[-0.6944888, 0.015425202, -0.0041255075, -0.1...  \n",
              "2  [[-0.6030773, -0.0011889015, 0.045667697, -0.1...  \n",
              "3  [[-0.69215715, -0.052971497, 0.03891414, -0.02...  \n",
              "4  [[-0.61126614, -0.005761562, -0.054692637, 0.0...  "
            ],
            "text/html": [
              "\n",
              "  <div id=\"df-9940fc05-665e-4317-868a-689c4d20fea6\" class=\"colab-df-container\">\n",
              "    <div>\n",
              "<style scoped>\n",
              "    .dataframe tbody tr th:only-of-type {\n",
              "        vertical-align: middle;\n",
              "    }\n",
              "\n",
              "    .dataframe tbody tr th {\n",
              "        vertical-align: top;\n",
              "    }\n",
              "\n",
              "    .dataframe thead th {\n",
              "        text-align: right;\n",
              "    }\n",
              "</style>\n",
              "<table border=\"1\" class=\"dataframe\">\n",
              "  <thead>\n",
              "    <tr style=\"text-align: right;\">\n",
              "      <th></th>\n",
              "      <th>File_Name</th>\n",
              "      <th>Text</th>\n",
              "      <th>Image_Path</th>\n",
              "      <th>BERT_Embeddings</th>\n",
              "    </tr>\n",
              "  </thead>\n",
              "  <tbody>\n",
              "    <tr>\n",
              "      <th>0</th>\n",
              "      <td>10017</td>\n",
              "      <td>The balcony juts out on the south side, with t...</td>\n",
              "      <td>../floorplan_image\\10017.png</td>\n",
              "      <td>[[-0.6216691, -0.029034398, 0.045137372, -0.09...</td>\n",
              "    </tr>\n",
              "    <tr>\n",
              "      <th>1</th>\n",
              "      <td>10042</td>\n",
              "      <td>The balcony is in the southeastern corner of t...</td>\n",
              "      <td>../floorplan_image\\10042.png</td>\n",
              "      <td>[[-0.6944888, 0.015425202, -0.0041255075, -0.1...</td>\n",
              "    </tr>\n",
              "    <tr>\n",
              "      <th>2</th>\n",
              "      <td>10045</td>\n",
              "      <td>bathroom is in north side of the house, next t...</td>\n",
              "      <td>../floorplan_image\\10045.png</td>\n",
              "      <td>[[-0.6030773, -0.0011889015, 0.045667697, -0.1...</td>\n",
              "    </tr>\n",
              "    <tr>\n",
              "      <th>3</th>\n",
              "      <td>10047</td>\n",
              "      <td>The balcony is in the north east corner, just ...</td>\n",
              "      <td>../floorplan_image\\10047.png</td>\n",
              "      <td>[[-0.69215715, -0.052971497, 0.03891414, -0.02...</td>\n",
              "    </tr>\n",
              "    <tr>\n",
              "      <th>4</th>\n",
              "      <td>10052</td>\n",
              "      <td>The balcony is on the southwest side of the ap...</td>\n",
              "      <td>../floorplan_image\\10052.png</td>\n",
              "      <td>[[-0.61126614, -0.005761562, -0.054692637, 0.0...</td>\n",
              "    </tr>\n",
              "  </tbody>\n",
              "</table>\n",
              "</div>\n",
              "    <div class=\"colab-df-buttons\">\n",
              "\n",
              "  <div class=\"colab-df-container\">\n",
              "    <button class=\"colab-df-convert\" onclick=\"convertToInteractive('df-9940fc05-665e-4317-868a-689c4d20fea6')\"\n",
              "            title=\"Convert this dataframe to an interactive table.\"\n",
              "            style=\"display:none;\">\n",
              "\n",
              "  <svg xmlns=\"http://www.w3.org/2000/svg\" height=\"24px\" viewBox=\"0 -960 960 960\">\n",
              "    <path d=\"M120-120v-720h720v720H120Zm60-500h600v-160H180v160Zm220 220h160v-160H400v160Zm0 220h160v-160H400v160ZM180-400h160v-160H180v160Zm440 0h160v-160H620v160ZM180-180h160v-160H180v160Zm440 0h160v-160H620v160Z\"/>\n",
              "  </svg>\n",
              "    </button>\n",
              "\n",
              "  <style>\n",
              "    .colab-df-container {\n",
              "      display:flex;\n",
              "      gap: 12px;\n",
              "    }\n",
              "\n",
              "    .colab-df-convert {\n",
              "      background-color: #E8F0FE;\n",
              "      border: none;\n",
              "      border-radius: 50%;\n",
              "      cursor: pointer;\n",
              "      display: none;\n",
              "      fill: #1967D2;\n",
              "      height: 32px;\n",
              "      padding: 0 0 0 0;\n",
              "      width: 32px;\n",
              "    }\n",
              "\n",
              "    .colab-df-convert:hover {\n",
              "      background-color: #E2EBFA;\n",
              "      box-shadow: 0px 1px 2px rgba(60, 64, 67, 0.3), 0px 1px 3px 1px rgba(60, 64, 67, 0.15);\n",
              "      fill: #174EA6;\n",
              "    }\n",
              "\n",
              "    .colab-df-buttons div {\n",
              "      margin-bottom: 4px;\n",
              "    }\n",
              "\n",
              "    [theme=dark] .colab-df-convert {\n",
              "      background-color: #3B4455;\n",
              "      fill: #D2E3FC;\n",
              "    }\n",
              "\n",
              "    [theme=dark] .colab-df-convert:hover {\n",
              "      background-color: #434B5C;\n",
              "      box-shadow: 0px 1px 3px 1px rgba(0, 0, 0, 0.15);\n",
              "      filter: drop-shadow(0px 1px 2px rgba(0, 0, 0, 0.3));\n",
              "      fill: #FFFFFF;\n",
              "    }\n",
              "  </style>\n",
              "\n",
              "    <script>\n",
              "      const buttonEl =\n",
              "        document.querySelector('#df-9940fc05-665e-4317-868a-689c4d20fea6 button.colab-df-convert');\n",
              "      buttonEl.style.display =\n",
              "        google.colab.kernel.accessAllowed ? 'block' : 'none';\n",
              "\n",
              "      async function convertToInteractive(key) {\n",
              "        const element = document.querySelector('#df-9940fc05-665e-4317-868a-689c4d20fea6');\n",
              "        const dataTable =\n",
              "          await google.colab.kernel.invokeFunction('convertToInteractive',\n",
              "                                                    [key], {});\n",
              "        if (!dataTable) return;\n",
              "\n",
              "        const docLinkHtml = 'Like what you see? Visit the ' +\n",
              "          '<a target=\"_blank\" href=https://colab.research.google.com/notebooks/data_table.ipynb>data table notebook</a>'\n",
              "          + ' to learn more about interactive tables.';\n",
              "        element.innerHTML = '';\n",
              "        dataTable['output_type'] = 'display_data';\n",
              "        await google.colab.output.renderOutput(dataTable, element);\n",
              "        const docLink = document.createElement('div');\n",
              "        docLink.innerHTML = docLinkHtml;\n",
              "        element.appendChild(docLink);\n",
              "      }\n",
              "    </script>\n",
              "  </div>\n",
              "\n",
              "\n",
              "<div id=\"df-28c88ef5-6ee6-4a62-9a24-b371cfa536c4\">\n",
              "  <button class=\"colab-df-quickchart\" onclick=\"quickchart('df-28c88ef5-6ee6-4a62-9a24-b371cfa536c4')\"\n",
              "            title=\"Suggest charts\"\n",
              "            style=\"display:none;\">\n",
              "\n",
              "<svg xmlns=\"http://www.w3.org/2000/svg\" height=\"24px\"viewBox=\"0 0 24 24\"\n",
              "     width=\"24px\">\n",
              "    <g>\n",
              "        <path d=\"M19 3H5c-1.1 0-2 .9-2 2v14c0 1.1.9 2 2 2h14c1.1 0 2-.9 2-2V5c0-1.1-.9-2-2-2zM9 17H7v-7h2v7zm4 0h-2V7h2v10zm4 0h-2v-4h2v4z\"/>\n",
              "    </g>\n",
              "</svg>\n",
              "  </button>\n",
              "\n",
              "<style>\n",
              "  .colab-df-quickchart {\n",
              "      --bg-color: #E8F0FE;\n",
              "      --fill-color: #1967D2;\n",
              "      --hover-bg-color: #E2EBFA;\n",
              "      --hover-fill-color: #174EA6;\n",
              "      --disabled-fill-color: #AAA;\n",
              "      --disabled-bg-color: #DDD;\n",
              "  }\n",
              "\n",
              "  [theme=dark] .colab-df-quickchart {\n",
              "      --bg-color: #3B4455;\n",
              "      --fill-color: #D2E3FC;\n",
              "      --hover-bg-color: #434B5C;\n",
              "      --hover-fill-color: #FFFFFF;\n",
              "      --disabled-bg-color: #3B4455;\n",
              "      --disabled-fill-color: #666;\n",
              "  }\n",
              "\n",
              "  .colab-df-quickchart {\n",
              "    background-color: var(--bg-color);\n",
              "    border: none;\n",
              "    border-radius: 50%;\n",
              "    cursor: pointer;\n",
              "    display: none;\n",
              "    fill: var(--fill-color);\n",
              "    height: 32px;\n",
              "    padding: 0;\n",
              "    width: 32px;\n",
              "  }\n",
              "\n",
              "  .colab-df-quickchart:hover {\n",
              "    background-color: var(--hover-bg-color);\n",
              "    box-shadow: 0 1px 2px rgba(60, 64, 67, 0.3), 0 1px 3px 1px rgba(60, 64, 67, 0.15);\n",
              "    fill: var(--button-hover-fill-color);\n",
              "  }\n",
              "\n",
              "  .colab-df-quickchart-complete:disabled,\n",
              "  .colab-df-quickchart-complete:disabled:hover {\n",
              "    background-color: var(--disabled-bg-color);\n",
              "    fill: var(--disabled-fill-color);\n",
              "    box-shadow: none;\n",
              "  }\n",
              "\n",
              "  .colab-df-spinner {\n",
              "    border: 2px solid var(--fill-color);\n",
              "    border-color: transparent;\n",
              "    border-bottom-color: var(--fill-color);\n",
              "    animation:\n",
              "      spin 1s steps(1) infinite;\n",
              "  }\n",
              "\n",
              "  @keyframes spin {\n",
              "    0% {\n",
              "      border-color: transparent;\n",
              "      border-bottom-color: var(--fill-color);\n",
              "      border-left-color: var(--fill-color);\n",
              "    }\n",
              "    20% {\n",
              "      border-color: transparent;\n",
              "      border-left-color: var(--fill-color);\n",
              "      border-top-color: var(--fill-color);\n",
              "    }\n",
              "    30% {\n",
              "      border-color: transparent;\n",
              "      border-left-color: var(--fill-color);\n",
              "      border-top-color: var(--fill-color);\n",
              "      border-right-color: var(--fill-color);\n",
              "    }\n",
              "    40% {\n",
              "      border-color: transparent;\n",
              "      border-right-color: var(--fill-color);\n",
              "      border-top-color: var(--fill-color);\n",
              "    }\n",
              "    60% {\n",
              "      border-color: transparent;\n",
              "      border-right-color: var(--fill-color);\n",
              "    }\n",
              "    80% {\n",
              "      border-color: transparent;\n",
              "      border-right-color: var(--fill-color);\n",
              "      border-bottom-color: var(--fill-color);\n",
              "    }\n",
              "    90% {\n",
              "      border-color: transparent;\n",
              "      border-bottom-color: var(--fill-color);\n",
              "    }\n",
              "  }\n",
              "</style>\n",
              "\n",
              "  <script>\n",
              "    async function quickchart(key) {\n",
              "      const quickchartButtonEl =\n",
              "        document.querySelector('#' + key + ' button');\n",
              "      quickchartButtonEl.disabled = true;  // To prevent multiple clicks.\n",
              "      quickchartButtonEl.classList.add('colab-df-spinner');\n",
              "      try {\n",
              "        const charts = await google.colab.kernel.invokeFunction(\n",
              "            'suggestCharts', [key], {});\n",
              "      } catch (error) {\n",
              "        console.error('Error during call to suggestCharts:', error);\n",
              "      }\n",
              "      quickchartButtonEl.classList.remove('colab-df-spinner');\n",
              "      quickchartButtonEl.classList.add('colab-df-quickchart-complete');\n",
              "    }\n",
              "    (() => {\n",
              "      let quickchartButtonEl =\n",
              "        document.querySelector('#df-28c88ef5-6ee6-4a62-9a24-b371cfa536c4 button');\n",
              "      quickchartButtonEl.style.display =\n",
              "        google.colab.kernel.accessAllowed ? 'block' : 'none';\n",
              "    })();\n",
              "  </script>\n",
              "</div>\n",
              "\n",
              "    </div>\n",
              "  </div>\n"
            ],
            "application/vnd.google.colaboratory.intrinsic+json": {
              "type": "dataframe",
              "variable_name": "df",
              "summary": "{\n  \"name\": \"df\",\n  \"rows\": 4003,\n  \"fields\": [\n    {\n      \"column\": \"File_Name\",\n      \"properties\": {\n        \"dtype\": \"string\",\n        \"num_unique_values\": 4003,\n        \"samples\": [\n          \"22362\",\n          \"6030\",\n          \"48051\"\n        ],\n        \"semantic_type\": \"\",\n        \"description\": \"\"\n      }\n    },\n    {\n      \"column\": \"Text\",\n      \"properties\": {\n        \"dtype\": \"string\",\n        \"num_unique_values\": 4003,\n        \"samples\": [\n          \"The balcony is at the front off of the master bedroom. It is about 5x20 ft. The bathroom is small about 10x8 ft and sits in the center between the living and master rooms. The common room is the back left corning off of the kitchen and living rooms. It is a bout 12x12 ft. The kitchen sits in the back right corner. It is about 10x12 ft and is off of the living room and common room. The living room is about 30x20 feet. It sits in the back center between the bath, common room, and kitchen. The master bed is about 20x15 feet and sits towards the front between the bath and the balcony. \",\n          \"Balcony is located at South East corner of House. Balcony is located in-front of Master Room and Right side of Kitchen. The Approximate size of Balcony is 10' x 6'. Bathroom is located at East side of House. Bathroom is located between Master Room and Common Room. The Approximate size of Bathroom is 4'  x 6'. Common Room is located at South West corner of House. Common Room is located Right side of Living Room and rear side of Bathroom. The Approximate size of Common Room is 10' x 14'. Kitchen is located at North West corner of House. Kitchen is located in-front of Living Room and Left side to Master Room and Balcony. The Approximate size of Kitchen is 6' x 10'. Living Room is located at West side of House. Living Room is located at Left side of Common Room, Bathroom and Master Room and Rear side of Kitchen. The Approximate size of Living Room is 14' x 30'. Master room is located at North East side of House. Master Room is located between Balcony and Bathroom. The Approximate size of Master Room is 10' x 12'. \",\n          \"THE BATHROOM IS LOCATED ON NORTH EAST CORNER.THE BATHROOM IS LOCATED NEARBY LIVING ROOM.THE FLOOR AREA IS 49 SQUARE FEET. #REF! THE COMMON ROOM IS LOCATED ON WEST SIDE.THE COMMON ROOM IS LOCATED IN BETWEEN MASTER ROOM AND KITCHEN.THE FLOOR AREA IS 150 SQUARE FEET. THE KITCHEN IS LOCATED ON NORTH WEST CORNER.THE KITCHEN IS LOCATED NEARBY COMMON ROOM.THE FLOOR AREA IS 90 SQUARE FEET. THE LIVING ROOM IS LOCATED ON SOUTH EAST CORNER.THE LIVING ROOM IS LOCATED NEARBY MASTER ROOM.THE FLOOR AREA IS 635 SQUARE FEET. THE MASTER ROOM IS LOCATED ON SOUTH WEST CORNER.THE MASTER ROOM IS LOCATED NEARBY COMMON ROOM.THE FLOOR AREA IS 280 SQUARE FEET. \"\n        ],\n        \"semantic_type\": \"\",\n        \"description\": \"\"\n      }\n    },\n    {\n      \"column\": \"Image_Path\",\n      \"properties\": {\n        \"dtype\": \"string\",\n        \"num_unique_values\": 4003,\n        \"samples\": [\n          \"../floorplan_image\\\\22362.png\",\n          \"../floorplan_image\\\\6030.png\",\n          \"../floorplan_image\\\\48051.png\"\n        ],\n        \"semantic_type\": \"\",\n        \"description\": \"\"\n      }\n    },\n    {\n      \"column\": \"BERT_Embeddings\",\n      \"properties\": {\n        \"dtype\": \"object\",\n        \"semantic_type\": \"\",\n        \"description\": \"\"\n      }\n    }\n  ]\n}"
            }
          },
          "metadata": {},
          "execution_count": 55
        }
      ]
    },
    {
      "cell_type": "markdown",
      "source": [
        "## Adjusting Image path according to Kaggle"
      ],
      "metadata": {
        "id": "5am4t40Q6Yey"
      }
    },
    {
      "cell_type": "code",
      "source": [
        "# Function to modify image path\n",
        "def modify_image_path(image_path):\n",
        "    filename = os.path.basename(image_path).split(\"floorplan_image\\\\\")[1]\n",
        "    new_path = os.path.join(\"human_annotated_images\", filename)\n",
        "    return new_path\n",
        "\n",
        "# Apply the function to the 'Image_Path' column in the DataFrame\n",
        "df['Modified_Image_Path'] = df['Image_Path'].apply(modify_image_path)\n",
        "\n",
        "df.head()"
      ],
      "metadata": {
        "execution": {
          "iopub.status.busy": "2024-05-02T23:01:54.399367Z",
          "iopub.execute_input": "2024-05-02T23:01:54.400021Z",
          "iopub.status.idle": "2024-05-02T23:01:54.442044Z",
          "shell.execute_reply.started": "2024-05-02T23:01:54.39999Z",
          "shell.execute_reply": "2024-05-02T23:01:54.440833Z"
        },
        "trusted": true,
        "id": "-FQi6Wet6Yey",
        "outputId": "2ed5a401-c46e-4fdd-9e42-ebf9af60b305",
        "colab": {
          "base_uri": "https://localhost:8080/",
          "height": 293
        }
      },
      "execution_count": 56,
      "outputs": [
        {
          "output_type": "execute_result",
          "data": {
            "text/plain": [
              "  File_Name                                               Text  \\\n",
              "0     10017  The balcony juts out on the south side, with t...   \n",
              "1     10042  The balcony is in the southeastern corner of t...   \n",
              "2     10045  bathroom is in north side of the house, next t...   \n",
              "3     10047  The balcony is in the north east corner, just ...   \n",
              "4     10052  The balcony is on the southwest side of the ap...   \n",
              "\n",
              "                     Image_Path  \\\n",
              "0  ../floorplan_image\\10017.png   \n",
              "1  ../floorplan_image\\10042.png   \n",
              "2  ../floorplan_image\\10045.png   \n",
              "3  ../floorplan_image\\10047.png   \n",
              "4  ../floorplan_image\\10052.png   \n",
              "\n",
              "                                     BERT_Embeddings  \\\n",
              "0  [[-0.6216691, -0.029034398, 0.045137372, -0.09...   \n",
              "1  [[-0.6944888, 0.015425202, -0.0041255075, -0.1...   \n",
              "2  [[-0.6030773, -0.0011889015, 0.045667697, -0.1...   \n",
              "3  [[-0.69215715, -0.052971497, 0.03891414, -0.02...   \n",
              "4  [[-0.61126614, -0.005761562, -0.054692637, 0.0...   \n",
              "\n",
              "                Modified_Image_Path  \n",
              "0  human_annotated_images/10017.png  \n",
              "1  human_annotated_images/10042.png  \n",
              "2  human_annotated_images/10045.png  \n",
              "3  human_annotated_images/10047.png  \n",
              "4  human_annotated_images/10052.png  "
            ],
            "text/html": [
              "\n",
              "  <div id=\"df-761e8ed8-7f3d-4e1b-a43a-4a6d225a4e6c\" class=\"colab-df-container\">\n",
              "    <div>\n",
              "<style scoped>\n",
              "    .dataframe tbody tr th:only-of-type {\n",
              "        vertical-align: middle;\n",
              "    }\n",
              "\n",
              "    .dataframe tbody tr th {\n",
              "        vertical-align: top;\n",
              "    }\n",
              "\n",
              "    .dataframe thead th {\n",
              "        text-align: right;\n",
              "    }\n",
              "</style>\n",
              "<table border=\"1\" class=\"dataframe\">\n",
              "  <thead>\n",
              "    <tr style=\"text-align: right;\">\n",
              "      <th></th>\n",
              "      <th>File_Name</th>\n",
              "      <th>Text</th>\n",
              "      <th>Image_Path</th>\n",
              "      <th>BERT_Embeddings</th>\n",
              "      <th>Modified_Image_Path</th>\n",
              "    </tr>\n",
              "  </thead>\n",
              "  <tbody>\n",
              "    <tr>\n",
              "      <th>0</th>\n",
              "      <td>10017</td>\n",
              "      <td>The balcony juts out on the south side, with t...</td>\n",
              "      <td>../floorplan_image\\10017.png</td>\n",
              "      <td>[[-0.6216691, -0.029034398, 0.045137372, -0.09...</td>\n",
              "      <td>human_annotated_images/10017.png</td>\n",
              "    </tr>\n",
              "    <tr>\n",
              "      <th>1</th>\n",
              "      <td>10042</td>\n",
              "      <td>The balcony is in the southeastern corner of t...</td>\n",
              "      <td>../floorplan_image\\10042.png</td>\n",
              "      <td>[[-0.6944888, 0.015425202, -0.0041255075, -0.1...</td>\n",
              "      <td>human_annotated_images/10042.png</td>\n",
              "    </tr>\n",
              "    <tr>\n",
              "      <th>2</th>\n",
              "      <td>10045</td>\n",
              "      <td>bathroom is in north side of the house, next t...</td>\n",
              "      <td>../floorplan_image\\10045.png</td>\n",
              "      <td>[[-0.6030773, -0.0011889015, 0.045667697, -0.1...</td>\n",
              "      <td>human_annotated_images/10045.png</td>\n",
              "    </tr>\n",
              "    <tr>\n",
              "      <th>3</th>\n",
              "      <td>10047</td>\n",
              "      <td>The balcony is in the north east corner, just ...</td>\n",
              "      <td>../floorplan_image\\10047.png</td>\n",
              "      <td>[[-0.69215715, -0.052971497, 0.03891414, -0.02...</td>\n",
              "      <td>human_annotated_images/10047.png</td>\n",
              "    </tr>\n",
              "    <tr>\n",
              "      <th>4</th>\n",
              "      <td>10052</td>\n",
              "      <td>The balcony is on the southwest side of the ap...</td>\n",
              "      <td>../floorplan_image\\10052.png</td>\n",
              "      <td>[[-0.61126614, -0.005761562, -0.054692637, 0.0...</td>\n",
              "      <td>human_annotated_images/10052.png</td>\n",
              "    </tr>\n",
              "  </tbody>\n",
              "</table>\n",
              "</div>\n",
              "    <div class=\"colab-df-buttons\">\n",
              "\n",
              "  <div class=\"colab-df-container\">\n",
              "    <button class=\"colab-df-convert\" onclick=\"convertToInteractive('df-761e8ed8-7f3d-4e1b-a43a-4a6d225a4e6c')\"\n",
              "            title=\"Convert this dataframe to an interactive table.\"\n",
              "            style=\"display:none;\">\n",
              "\n",
              "  <svg xmlns=\"http://www.w3.org/2000/svg\" height=\"24px\" viewBox=\"0 -960 960 960\">\n",
              "    <path d=\"M120-120v-720h720v720H120Zm60-500h600v-160H180v160Zm220 220h160v-160H400v160Zm0 220h160v-160H400v160ZM180-400h160v-160H180v160Zm440 0h160v-160H620v160ZM180-180h160v-160H180v160Zm440 0h160v-160H620v160Z\"/>\n",
              "  </svg>\n",
              "    </button>\n",
              "\n",
              "  <style>\n",
              "    .colab-df-container {\n",
              "      display:flex;\n",
              "      gap: 12px;\n",
              "    }\n",
              "\n",
              "    .colab-df-convert {\n",
              "      background-color: #E8F0FE;\n",
              "      border: none;\n",
              "      border-radius: 50%;\n",
              "      cursor: pointer;\n",
              "      display: none;\n",
              "      fill: #1967D2;\n",
              "      height: 32px;\n",
              "      padding: 0 0 0 0;\n",
              "      width: 32px;\n",
              "    }\n",
              "\n",
              "    .colab-df-convert:hover {\n",
              "      background-color: #E2EBFA;\n",
              "      box-shadow: 0px 1px 2px rgba(60, 64, 67, 0.3), 0px 1px 3px 1px rgba(60, 64, 67, 0.15);\n",
              "      fill: #174EA6;\n",
              "    }\n",
              "\n",
              "    .colab-df-buttons div {\n",
              "      margin-bottom: 4px;\n",
              "    }\n",
              "\n",
              "    [theme=dark] .colab-df-convert {\n",
              "      background-color: #3B4455;\n",
              "      fill: #D2E3FC;\n",
              "    }\n",
              "\n",
              "    [theme=dark] .colab-df-convert:hover {\n",
              "      background-color: #434B5C;\n",
              "      box-shadow: 0px 1px 3px 1px rgba(0, 0, 0, 0.15);\n",
              "      filter: drop-shadow(0px 1px 2px rgba(0, 0, 0, 0.3));\n",
              "      fill: #FFFFFF;\n",
              "    }\n",
              "  </style>\n",
              "\n",
              "    <script>\n",
              "      const buttonEl =\n",
              "        document.querySelector('#df-761e8ed8-7f3d-4e1b-a43a-4a6d225a4e6c button.colab-df-convert');\n",
              "      buttonEl.style.display =\n",
              "        google.colab.kernel.accessAllowed ? 'block' : 'none';\n",
              "\n",
              "      async function convertToInteractive(key) {\n",
              "        const element = document.querySelector('#df-761e8ed8-7f3d-4e1b-a43a-4a6d225a4e6c');\n",
              "        const dataTable =\n",
              "          await google.colab.kernel.invokeFunction('convertToInteractive',\n",
              "                                                    [key], {});\n",
              "        if (!dataTable) return;\n",
              "\n",
              "        const docLinkHtml = 'Like what you see? Visit the ' +\n",
              "          '<a target=\"_blank\" href=https://colab.research.google.com/notebooks/data_table.ipynb>data table notebook</a>'\n",
              "          + ' to learn more about interactive tables.';\n",
              "        element.innerHTML = '';\n",
              "        dataTable['output_type'] = 'display_data';\n",
              "        await google.colab.output.renderOutput(dataTable, element);\n",
              "        const docLink = document.createElement('div');\n",
              "        docLink.innerHTML = docLinkHtml;\n",
              "        element.appendChild(docLink);\n",
              "      }\n",
              "    </script>\n",
              "  </div>\n",
              "\n",
              "\n",
              "<div id=\"df-b3c71170-8c05-4325-9f9c-a0301d65401a\">\n",
              "  <button class=\"colab-df-quickchart\" onclick=\"quickchart('df-b3c71170-8c05-4325-9f9c-a0301d65401a')\"\n",
              "            title=\"Suggest charts\"\n",
              "            style=\"display:none;\">\n",
              "\n",
              "<svg xmlns=\"http://www.w3.org/2000/svg\" height=\"24px\"viewBox=\"0 0 24 24\"\n",
              "     width=\"24px\">\n",
              "    <g>\n",
              "        <path d=\"M19 3H5c-1.1 0-2 .9-2 2v14c0 1.1.9 2 2 2h14c1.1 0 2-.9 2-2V5c0-1.1-.9-2-2-2zM9 17H7v-7h2v7zm4 0h-2V7h2v10zm4 0h-2v-4h2v4z\"/>\n",
              "    </g>\n",
              "</svg>\n",
              "  </button>\n",
              "\n",
              "<style>\n",
              "  .colab-df-quickchart {\n",
              "      --bg-color: #E8F0FE;\n",
              "      --fill-color: #1967D2;\n",
              "      --hover-bg-color: #E2EBFA;\n",
              "      --hover-fill-color: #174EA6;\n",
              "      --disabled-fill-color: #AAA;\n",
              "      --disabled-bg-color: #DDD;\n",
              "  }\n",
              "\n",
              "  [theme=dark] .colab-df-quickchart {\n",
              "      --bg-color: #3B4455;\n",
              "      --fill-color: #D2E3FC;\n",
              "      --hover-bg-color: #434B5C;\n",
              "      --hover-fill-color: #FFFFFF;\n",
              "      --disabled-bg-color: #3B4455;\n",
              "      --disabled-fill-color: #666;\n",
              "  }\n",
              "\n",
              "  .colab-df-quickchart {\n",
              "    background-color: var(--bg-color);\n",
              "    border: none;\n",
              "    border-radius: 50%;\n",
              "    cursor: pointer;\n",
              "    display: none;\n",
              "    fill: var(--fill-color);\n",
              "    height: 32px;\n",
              "    padding: 0;\n",
              "    width: 32px;\n",
              "  }\n",
              "\n",
              "  .colab-df-quickchart:hover {\n",
              "    background-color: var(--hover-bg-color);\n",
              "    box-shadow: 0 1px 2px rgba(60, 64, 67, 0.3), 0 1px 3px 1px rgba(60, 64, 67, 0.15);\n",
              "    fill: var(--button-hover-fill-color);\n",
              "  }\n",
              "\n",
              "  .colab-df-quickchart-complete:disabled,\n",
              "  .colab-df-quickchart-complete:disabled:hover {\n",
              "    background-color: var(--disabled-bg-color);\n",
              "    fill: var(--disabled-fill-color);\n",
              "    box-shadow: none;\n",
              "  }\n",
              "\n",
              "  .colab-df-spinner {\n",
              "    border: 2px solid var(--fill-color);\n",
              "    border-color: transparent;\n",
              "    border-bottom-color: var(--fill-color);\n",
              "    animation:\n",
              "      spin 1s steps(1) infinite;\n",
              "  }\n",
              "\n",
              "  @keyframes spin {\n",
              "    0% {\n",
              "      border-color: transparent;\n",
              "      border-bottom-color: var(--fill-color);\n",
              "      border-left-color: var(--fill-color);\n",
              "    }\n",
              "    20% {\n",
              "      border-color: transparent;\n",
              "      border-left-color: var(--fill-color);\n",
              "      border-top-color: var(--fill-color);\n",
              "    }\n",
              "    30% {\n",
              "      border-color: transparent;\n",
              "      border-left-color: var(--fill-color);\n",
              "      border-top-color: var(--fill-color);\n",
              "      border-right-color: var(--fill-color);\n",
              "    }\n",
              "    40% {\n",
              "      border-color: transparent;\n",
              "      border-right-color: var(--fill-color);\n",
              "      border-top-color: var(--fill-color);\n",
              "    }\n",
              "    60% {\n",
              "      border-color: transparent;\n",
              "      border-right-color: var(--fill-color);\n",
              "    }\n",
              "    80% {\n",
              "      border-color: transparent;\n",
              "      border-right-color: var(--fill-color);\n",
              "      border-bottom-color: var(--fill-color);\n",
              "    }\n",
              "    90% {\n",
              "      border-color: transparent;\n",
              "      border-bottom-color: var(--fill-color);\n",
              "    }\n",
              "  }\n",
              "</style>\n",
              "\n",
              "  <script>\n",
              "    async function quickchart(key) {\n",
              "      const quickchartButtonEl =\n",
              "        document.querySelector('#' + key + ' button');\n",
              "      quickchartButtonEl.disabled = true;  // To prevent multiple clicks.\n",
              "      quickchartButtonEl.classList.add('colab-df-spinner');\n",
              "      try {\n",
              "        const charts = await google.colab.kernel.invokeFunction(\n",
              "            'suggestCharts', [key], {});\n",
              "      } catch (error) {\n",
              "        console.error('Error during call to suggestCharts:', error);\n",
              "      }\n",
              "      quickchartButtonEl.classList.remove('colab-df-spinner');\n",
              "      quickchartButtonEl.classList.add('colab-df-quickchart-complete');\n",
              "    }\n",
              "    (() => {\n",
              "      let quickchartButtonEl =\n",
              "        document.querySelector('#df-b3c71170-8c05-4325-9f9c-a0301d65401a button');\n",
              "      quickchartButtonEl.style.display =\n",
              "        google.colab.kernel.accessAllowed ? 'block' : 'none';\n",
              "    })();\n",
              "  </script>\n",
              "</div>\n",
              "\n",
              "    </div>\n",
              "  </div>\n"
            ],
            "application/vnd.google.colaboratory.intrinsic+json": {
              "type": "dataframe",
              "variable_name": "df",
              "summary": "{\n  \"name\": \"df\",\n  \"rows\": 4003,\n  \"fields\": [\n    {\n      \"column\": \"File_Name\",\n      \"properties\": {\n        \"dtype\": \"string\",\n        \"num_unique_values\": 4003,\n        \"samples\": [\n          \"22362\",\n          \"6030\",\n          \"48051\"\n        ],\n        \"semantic_type\": \"\",\n        \"description\": \"\"\n      }\n    },\n    {\n      \"column\": \"Text\",\n      \"properties\": {\n        \"dtype\": \"string\",\n        \"num_unique_values\": 4003,\n        \"samples\": [\n          \"The balcony is at the front off of the master bedroom. It is about 5x20 ft. The bathroom is small about 10x8 ft and sits in the center between the living and master rooms. The common room is the back left corning off of the kitchen and living rooms. It is a bout 12x12 ft. The kitchen sits in the back right corner. It is about 10x12 ft and is off of the living room and common room. The living room is about 30x20 feet. It sits in the back center between the bath, common room, and kitchen. The master bed is about 20x15 feet and sits towards the front between the bath and the balcony. \",\n          \"Balcony is located at South East corner of House. Balcony is located in-front of Master Room and Right side of Kitchen. The Approximate size of Balcony is 10' x 6'. Bathroom is located at East side of House. Bathroom is located between Master Room and Common Room. The Approximate size of Bathroom is 4'  x 6'. Common Room is located at South West corner of House. Common Room is located Right side of Living Room and rear side of Bathroom. The Approximate size of Common Room is 10' x 14'. Kitchen is located at North West corner of House. Kitchen is located in-front of Living Room and Left side to Master Room and Balcony. The Approximate size of Kitchen is 6' x 10'. Living Room is located at West side of House. Living Room is located at Left side of Common Room, Bathroom and Master Room and Rear side of Kitchen. The Approximate size of Living Room is 14' x 30'. Master room is located at North East side of House. Master Room is located between Balcony and Bathroom. The Approximate size of Master Room is 10' x 12'. \",\n          \"THE BATHROOM IS LOCATED ON NORTH EAST CORNER.THE BATHROOM IS LOCATED NEARBY LIVING ROOM.THE FLOOR AREA IS 49 SQUARE FEET. #REF! THE COMMON ROOM IS LOCATED ON WEST SIDE.THE COMMON ROOM IS LOCATED IN BETWEEN MASTER ROOM AND KITCHEN.THE FLOOR AREA IS 150 SQUARE FEET. THE KITCHEN IS LOCATED ON NORTH WEST CORNER.THE KITCHEN IS LOCATED NEARBY COMMON ROOM.THE FLOOR AREA IS 90 SQUARE FEET. THE LIVING ROOM IS LOCATED ON SOUTH EAST CORNER.THE LIVING ROOM IS LOCATED NEARBY MASTER ROOM.THE FLOOR AREA IS 635 SQUARE FEET. THE MASTER ROOM IS LOCATED ON SOUTH WEST CORNER.THE MASTER ROOM IS LOCATED NEARBY COMMON ROOM.THE FLOOR AREA IS 280 SQUARE FEET. \"\n        ],\n        \"semantic_type\": \"\",\n        \"description\": \"\"\n      }\n    },\n    {\n      \"column\": \"Image_Path\",\n      \"properties\": {\n        \"dtype\": \"string\",\n        \"num_unique_values\": 4003,\n        \"samples\": [\n          \"../floorplan_image\\\\22362.png\",\n          \"../floorplan_image\\\\6030.png\",\n          \"../floorplan_image\\\\48051.png\"\n        ],\n        \"semantic_type\": \"\",\n        \"description\": \"\"\n      }\n    },\n    {\n      \"column\": \"BERT_Embeddings\",\n      \"properties\": {\n        \"dtype\": \"object\",\n        \"semantic_type\": \"\",\n        \"description\": \"\"\n      }\n    },\n    {\n      \"column\": \"Modified_Image_Path\",\n      \"properties\": {\n        \"dtype\": \"string\",\n        \"num_unique_values\": 4003,\n        \"samples\": [\n          \"human_annotated_images/22362.png\",\n          \"human_annotated_images/6030.png\",\n          \"human_annotated_images/48051.png\"\n        ],\n        \"semantic_type\": \"\",\n        \"description\": \"\"\n      }\n    }\n  ]\n}"
            }
          },
          "metadata": {},
          "execution_count": 56
        }
      ]
    },
    {
      "cell_type": "code",
      "source": [
        "df.drop(['Image_Path'], axis = 1, inplace = True)"
      ],
      "metadata": {
        "execution": {
          "iopub.status.busy": "2024-05-02T23:01:57.187009Z",
          "iopub.execute_input": "2024-05-02T23:01:57.187635Z",
          "iopub.status.idle": "2024-05-02T23:01:57.198782Z",
          "shell.execute_reply.started": "2024-05-02T23:01:57.187599Z",
          "shell.execute_reply": "2024-05-02T23:01:57.197662Z"
        },
        "trusted": true,
        "id": "J_FV201X6Yez"
      },
      "execution_count": 57,
      "outputs": []
    },
    {
      "cell_type": "code",
      "source": [
        "df.rename(columns = {'Modified_Image_Path':'Image_Path'}, inplace = True)\n",
        "df.head()"
      ],
      "metadata": {
        "execution": {
          "iopub.status.busy": "2024-05-02T23:01:57.925827Z",
          "iopub.execute_input": "2024-05-02T23:01:57.926766Z",
          "iopub.status.idle": "2024-05-02T23:01:57.950825Z",
          "shell.execute_reply.started": "2024-05-02T23:01:57.926729Z",
          "shell.execute_reply": "2024-05-02T23:01:57.948765Z"
        },
        "trusted": true,
        "id": "svaT09se6Yez",
        "outputId": "d1447e88-a19f-4ca7-b31b-6b2c56e3ce09",
        "colab": {
          "base_uri": "https://localhost:8080/",
          "height": 206
        }
      },
      "execution_count": 58,
      "outputs": [
        {
          "output_type": "execute_result",
          "data": {
            "text/plain": [
              "  File_Name                                               Text  \\\n",
              "0     10017  The balcony juts out on the south side, with t...   \n",
              "1     10042  The balcony is in the southeastern corner of t...   \n",
              "2     10045  bathroom is in north side of the house, next t...   \n",
              "3     10047  The balcony is in the north east corner, just ...   \n",
              "4     10052  The balcony is on the southwest side of the ap...   \n",
              "\n",
              "                                     BERT_Embeddings  \\\n",
              "0  [[-0.6216691, -0.029034398, 0.045137372, -0.09...   \n",
              "1  [[-0.6944888, 0.015425202, -0.0041255075, -0.1...   \n",
              "2  [[-0.6030773, -0.0011889015, 0.045667697, -0.1...   \n",
              "3  [[-0.69215715, -0.052971497, 0.03891414, -0.02...   \n",
              "4  [[-0.61126614, -0.005761562, -0.054692637, 0.0...   \n",
              "\n",
              "                         Image_Path  \n",
              "0  human_annotated_images/10017.png  \n",
              "1  human_annotated_images/10042.png  \n",
              "2  human_annotated_images/10045.png  \n",
              "3  human_annotated_images/10047.png  \n",
              "4  human_annotated_images/10052.png  "
            ],
            "text/html": [
              "\n",
              "  <div id=\"df-bbe7f2fb-82fe-422a-a898-efedf18c8c7b\" class=\"colab-df-container\">\n",
              "    <div>\n",
              "<style scoped>\n",
              "    .dataframe tbody tr th:only-of-type {\n",
              "        vertical-align: middle;\n",
              "    }\n",
              "\n",
              "    .dataframe tbody tr th {\n",
              "        vertical-align: top;\n",
              "    }\n",
              "\n",
              "    .dataframe thead th {\n",
              "        text-align: right;\n",
              "    }\n",
              "</style>\n",
              "<table border=\"1\" class=\"dataframe\">\n",
              "  <thead>\n",
              "    <tr style=\"text-align: right;\">\n",
              "      <th></th>\n",
              "      <th>File_Name</th>\n",
              "      <th>Text</th>\n",
              "      <th>BERT_Embeddings</th>\n",
              "      <th>Image_Path</th>\n",
              "    </tr>\n",
              "  </thead>\n",
              "  <tbody>\n",
              "    <tr>\n",
              "      <th>0</th>\n",
              "      <td>10017</td>\n",
              "      <td>The balcony juts out on the south side, with t...</td>\n",
              "      <td>[[-0.6216691, -0.029034398, 0.045137372, -0.09...</td>\n",
              "      <td>human_annotated_images/10017.png</td>\n",
              "    </tr>\n",
              "    <tr>\n",
              "      <th>1</th>\n",
              "      <td>10042</td>\n",
              "      <td>The balcony is in the southeastern corner of t...</td>\n",
              "      <td>[[-0.6944888, 0.015425202, -0.0041255075, -0.1...</td>\n",
              "      <td>human_annotated_images/10042.png</td>\n",
              "    </tr>\n",
              "    <tr>\n",
              "      <th>2</th>\n",
              "      <td>10045</td>\n",
              "      <td>bathroom is in north side of the house, next t...</td>\n",
              "      <td>[[-0.6030773, -0.0011889015, 0.045667697, -0.1...</td>\n",
              "      <td>human_annotated_images/10045.png</td>\n",
              "    </tr>\n",
              "    <tr>\n",
              "      <th>3</th>\n",
              "      <td>10047</td>\n",
              "      <td>The balcony is in the north east corner, just ...</td>\n",
              "      <td>[[-0.69215715, -0.052971497, 0.03891414, -0.02...</td>\n",
              "      <td>human_annotated_images/10047.png</td>\n",
              "    </tr>\n",
              "    <tr>\n",
              "      <th>4</th>\n",
              "      <td>10052</td>\n",
              "      <td>The balcony is on the southwest side of the ap...</td>\n",
              "      <td>[[-0.61126614, -0.005761562, -0.054692637, 0.0...</td>\n",
              "      <td>human_annotated_images/10052.png</td>\n",
              "    </tr>\n",
              "  </tbody>\n",
              "</table>\n",
              "</div>\n",
              "    <div class=\"colab-df-buttons\">\n",
              "\n",
              "  <div class=\"colab-df-container\">\n",
              "    <button class=\"colab-df-convert\" onclick=\"convertToInteractive('df-bbe7f2fb-82fe-422a-a898-efedf18c8c7b')\"\n",
              "            title=\"Convert this dataframe to an interactive table.\"\n",
              "            style=\"display:none;\">\n",
              "\n",
              "  <svg xmlns=\"http://www.w3.org/2000/svg\" height=\"24px\" viewBox=\"0 -960 960 960\">\n",
              "    <path d=\"M120-120v-720h720v720H120Zm60-500h600v-160H180v160Zm220 220h160v-160H400v160Zm0 220h160v-160H400v160ZM180-400h160v-160H180v160Zm440 0h160v-160H620v160ZM180-180h160v-160H180v160Zm440 0h160v-160H620v160Z\"/>\n",
              "  </svg>\n",
              "    </button>\n",
              "\n",
              "  <style>\n",
              "    .colab-df-container {\n",
              "      display:flex;\n",
              "      gap: 12px;\n",
              "    }\n",
              "\n",
              "    .colab-df-convert {\n",
              "      background-color: #E8F0FE;\n",
              "      border: none;\n",
              "      border-radius: 50%;\n",
              "      cursor: pointer;\n",
              "      display: none;\n",
              "      fill: #1967D2;\n",
              "      height: 32px;\n",
              "      padding: 0 0 0 0;\n",
              "      width: 32px;\n",
              "    }\n",
              "\n",
              "    .colab-df-convert:hover {\n",
              "      background-color: #E2EBFA;\n",
              "      box-shadow: 0px 1px 2px rgba(60, 64, 67, 0.3), 0px 1px 3px 1px rgba(60, 64, 67, 0.15);\n",
              "      fill: #174EA6;\n",
              "    }\n",
              "\n",
              "    .colab-df-buttons div {\n",
              "      margin-bottom: 4px;\n",
              "    }\n",
              "\n",
              "    [theme=dark] .colab-df-convert {\n",
              "      background-color: #3B4455;\n",
              "      fill: #D2E3FC;\n",
              "    }\n",
              "\n",
              "    [theme=dark] .colab-df-convert:hover {\n",
              "      background-color: #434B5C;\n",
              "      box-shadow: 0px 1px 3px 1px rgba(0, 0, 0, 0.15);\n",
              "      filter: drop-shadow(0px 1px 2px rgba(0, 0, 0, 0.3));\n",
              "      fill: #FFFFFF;\n",
              "    }\n",
              "  </style>\n",
              "\n",
              "    <script>\n",
              "      const buttonEl =\n",
              "        document.querySelector('#df-bbe7f2fb-82fe-422a-a898-efedf18c8c7b button.colab-df-convert');\n",
              "      buttonEl.style.display =\n",
              "        google.colab.kernel.accessAllowed ? 'block' : 'none';\n",
              "\n",
              "      async function convertToInteractive(key) {\n",
              "        const element = document.querySelector('#df-bbe7f2fb-82fe-422a-a898-efedf18c8c7b');\n",
              "        const dataTable =\n",
              "          await google.colab.kernel.invokeFunction('convertToInteractive',\n",
              "                                                    [key], {});\n",
              "        if (!dataTable) return;\n",
              "\n",
              "        const docLinkHtml = 'Like what you see? Visit the ' +\n",
              "          '<a target=\"_blank\" href=https://colab.research.google.com/notebooks/data_table.ipynb>data table notebook</a>'\n",
              "          + ' to learn more about interactive tables.';\n",
              "        element.innerHTML = '';\n",
              "        dataTable['output_type'] = 'display_data';\n",
              "        await google.colab.output.renderOutput(dataTable, element);\n",
              "        const docLink = document.createElement('div');\n",
              "        docLink.innerHTML = docLinkHtml;\n",
              "        element.appendChild(docLink);\n",
              "      }\n",
              "    </script>\n",
              "  </div>\n",
              "\n",
              "\n",
              "<div id=\"df-699a66eb-1699-4d52-a682-c1ec1ded8783\">\n",
              "  <button class=\"colab-df-quickchart\" onclick=\"quickchart('df-699a66eb-1699-4d52-a682-c1ec1ded8783')\"\n",
              "            title=\"Suggest charts\"\n",
              "            style=\"display:none;\">\n",
              "\n",
              "<svg xmlns=\"http://www.w3.org/2000/svg\" height=\"24px\"viewBox=\"0 0 24 24\"\n",
              "     width=\"24px\">\n",
              "    <g>\n",
              "        <path d=\"M19 3H5c-1.1 0-2 .9-2 2v14c0 1.1.9 2 2 2h14c1.1 0 2-.9 2-2V5c0-1.1-.9-2-2-2zM9 17H7v-7h2v7zm4 0h-2V7h2v10zm4 0h-2v-4h2v4z\"/>\n",
              "    </g>\n",
              "</svg>\n",
              "  </button>\n",
              "\n",
              "<style>\n",
              "  .colab-df-quickchart {\n",
              "      --bg-color: #E8F0FE;\n",
              "      --fill-color: #1967D2;\n",
              "      --hover-bg-color: #E2EBFA;\n",
              "      --hover-fill-color: #174EA6;\n",
              "      --disabled-fill-color: #AAA;\n",
              "      --disabled-bg-color: #DDD;\n",
              "  }\n",
              "\n",
              "  [theme=dark] .colab-df-quickchart {\n",
              "      --bg-color: #3B4455;\n",
              "      --fill-color: #D2E3FC;\n",
              "      --hover-bg-color: #434B5C;\n",
              "      --hover-fill-color: #FFFFFF;\n",
              "      --disabled-bg-color: #3B4455;\n",
              "      --disabled-fill-color: #666;\n",
              "  }\n",
              "\n",
              "  .colab-df-quickchart {\n",
              "    background-color: var(--bg-color);\n",
              "    border: none;\n",
              "    border-radius: 50%;\n",
              "    cursor: pointer;\n",
              "    display: none;\n",
              "    fill: var(--fill-color);\n",
              "    height: 32px;\n",
              "    padding: 0;\n",
              "    width: 32px;\n",
              "  }\n",
              "\n",
              "  .colab-df-quickchart:hover {\n",
              "    background-color: var(--hover-bg-color);\n",
              "    box-shadow: 0 1px 2px rgba(60, 64, 67, 0.3), 0 1px 3px 1px rgba(60, 64, 67, 0.15);\n",
              "    fill: var(--button-hover-fill-color);\n",
              "  }\n",
              "\n",
              "  .colab-df-quickchart-complete:disabled,\n",
              "  .colab-df-quickchart-complete:disabled:hover {\n",
              "    background-color: var(--disabled-bg-color);\n",
              "    fill: var(--disabled-fill-color);\n",
              "    box-shadow: none;\n",
              "  }\n",
              "\n",
              "  .colab-df-spinner {\n",
              "    border: 2px solid var(--fill-color);\n",
              "    border-color: transparent;\n",
              "    border-bottom-color: var(--fill-color);\n",
              "    animation:\n",
              "      spin 1s steps(1) infinite;\n",
              "  }\n",
              "\n",
              "  @keyframes spin {\n",
              "    0% {\n",
              "      border-color: transparent;\n",
              "      border-bottom-color: var(--fill-color);\n",
              "      border-left-color: var(--fill-color);\n",
              "    }\n",
              "    20% {\n",
              "      border-color: transparent;\n",
              "      border-left-color: var(--fill-color);\n",
              "      border-top-color: var(--fill-color);\n",
              "    }\n",
              "    30% {\n",
              "      border-color: transparent;\n",
              "      border-left-color: var(--fill-color);\n",
              "      border-top-color: var(--fill-color);\n",
              "      border-right-color: var(--fill-color);\n",
              "    }\n",
              "    40% {\n",
              "      border-color: transparent;\n",
              "      border-right-color: var(--fill-color);\n",
              "      border-top-color: var(--fill-color);\n",
              "    }\n",
              "    60% {\n",
              "      border-color: transparent;\n",
              "      border-right-color: var(--fill-color);\n",
              "    }\n",
              "    80% {\n",
              "      border-color: transparent;\n",
              "      border-right-color: var(--fill-color);\n",
              "      border-bottom-color: var(--fill-color);\n",
              "    }\n",
              "    90% {\n",
              "      border-color: transparent;\n",
              "      border-bottom-color: var(--fill-color);\n",
              "    }\n",
              "  }\n",
              "</style>\n",
              "\n",
              "  <script>\n",
              "    async function quickchart(key) {\n",
              "      const quickchartButtonEl =\n",
              "        document.querySelector('#' + key + ' button');\n",
              "      quickchartButtonEl.disabled = true;  // To prevent multiple clicks.\n",
              "      quickchartButtonEl.classList.add('colab-df-spinner');\n",
              "      try {\n",
              "        const charts = await google.colab.kernel.invokeFunction(\n",
              "            'suggestCharts', [key], {});\n",
              "      } catch (error) {\n",
              "        console.error('Error during call to suggestCharts:', error);\n",
              "      }\n",
              "      quickchartButtonEl.classList.remove('colab-df-spinner');\n",
              "      quickchartButtonEl.classList.add('colab-df-quickchart-complete');\n",
              "    }\n",
              "    (() => {\n",
              "      let quickchartButtonEl =\n",
              "        document.querySelector('#df-699a66eb-1699-4d52-a682-c1ec1ded8783 button');\n",
              "      quickchartButtonEl.style.display =\n",
              "        google.colab.kernel.accessAllowed ? 'block' : 'none';\n",
              "    })();\n",
              "  </script>\n",
              "</div>\n",
              "\n",
              "    </div>\n",
              "  </div>\n"
            ],
            "application/vnd.google.colaboratory.intrinsic+json": {
              "type": "dataframe",
              "variable_name": "df",
              "summary": "{\n  \"name\": \"df\",\n  \"rows\": 4003,\n  \"fields\": [\n    {\n      \"column\": \"File_Name\",\n      \"properties\": {\n        \"dtype\": \"string\",\n        \"num_unique_values\": 4003,\n        \"samples\": [\n          \"22362\",\n          \"6030\",\n          \"48051\"\n        ],\n        \"semantic_type\": \"\",\n        \"description\": \"\"\n      }\n    },\n    {\n      \"column\": \"Text\",\n      \"properties\": {\n        \"dtype\": \"string\",\n        \"num_unique_values\": 4003,\n        \"samples\": [\n          \"The balcony is at the front off of the master bedroom. It is about 5x20 ft. The bathroom is small about 10x8 ft and sits in the center between the living and master rooms. The common room is the back left corning off of the kitchen and living rooms. It is a bout 12x12 ft. The kitchen sits in the back right corner. It is about 10x12 ft and is off of the living room and common room. The living room is about 30x20 feet. It sits in the back center between the bath, common room, and kitchen. The master bed is about 20x15 feet and sits towards the front between the bath and the balcony. \",\n          \"Balcony is located at South East corner of House. Balcony is located in-front of Master Room and Right side of Kitchen. The Approximate size of Balcony is 10' x 6'. Bathroom is located at East side of House. Bathroom is located between Master Room and Common Room. The Approximate size of Bathroom is 4'  x 6'. Common Room is located at South West corner of House. Common Room is located Right side of Living Room and rear side of Bathroom. The Approximate size of Common Room is 10' x 14'. Kitchen is located at North West corner of House. Kitchen is located in-front of Living Room and Left side to Master Room and Balcony. The Approximate size of Kitchen is 6' x 10'. Living Room is located at West side of House. Living Room is located at Left side of Common Room, Bathroom and Master Room and Rear side of Kitchen. The Approximate size of Living Room is 14' x 30'. Master room is located at North East side of House. Master Room is located between Balcony and Bathroom. The Approximate size of Master Room is 10' x 12'. \",\n          \"THE BATHROOM IS LOCATED ON NORTH EAST CORNER.THE BATHROOM IS LOCATED NEARBY LIVING ROOM.THE FLOOR AREA IS 49 SQUARE FEET. #REF! THE COMMON ROOM IS LOCATED ON WEST SIDE.THE COMMON ROOM IS LOCATED IN BETWEEN MASTER ROOM AND KITCHEN.THE FLOOR AREA IS 150 SQUARE FEET. THE KITCHEN IS LOCATED ON NORTH WEST CORNER.THE KITCHEN IS LOCATED NEARBY COMMON ROOM.THE FLOOR AREA IS 90 SQUARE FEET. THE LIVING ROOM IS LOCATED ON SOUTH EAST CORNER.THE LIVING ROOM IS LOCATED NEARBY MASTER ROOM.THE FLOOR AREA IS 635 SQUARE FEET. THE MASTER ROOM IS LOCATED ON SOUTH WEST CORNER.THE MASTER ROOM IS LOCATED NEARBY COMMON ROOM.THE FLOOR AREA IS 280 SQUARE FEET. \"\n        ],\n        \"semantic_type\": \"\",\n        \"description\": \"\"\n      }\n    },\n    {\n      \"column\": \"BERT_Embeddings\",\n      \"properties\": {\n        \"dtype\": \"object\",\n        \"semantic_type\": \"\",\n        \"description\": \"\"\n      }\n    },\n    {\n      \"column\": \"Image_Path\",\n      \"properties\": {\n        \"dtype\": \"string\",\n        \"num_unique_values\": 4003,\n        \"samples\": [\n          \"human_annotated_images/22362.png\",\n          \"human_annotated_images/6030.png\",\n          \"human_annotated_images/48051.png\"\n        ],\n        \"semantic_type\": \"\",\n        \"description\": \"\"\n      }\n    }\n  ]\n}"
            }
          },
          "metadata": {},
          "execution_count": 58
        }
      ]
    },
    {
      "cell_type": "markdown",
      "source": [
        "# Printing an Image"
      ],
      "metadata": {
        "id": "YNPEe9Af6Yez"
      }
    },
    {
      "cell_type": "code",
      "source": [
        "import os\n",
        "for dirname, _, filenames in os.walk('/kaggle/input'):\n",
        "    print(dirname)"
      ],
      "metadata": {
        "execution": {
          "iopub.status.busy": "2024-05-02T23:01:59.988539Z",
          "iopub.execute_input": "2024-05-02T23:01:59.988968Z",
          "iopub.status.idle": "2024-05-02T23:02:01.92882Z",
          "shell.execute_reply.started": "2024-05-02T23:01:59.988932Z",
          "shell.execute_reply": "2024-05-02T23:02:01.927761Z"
        },
        "trusted": true,
        "id": "Pny62n1r6Ye0",
        "outputId": "20ec61bf-e342-415a-ad7b-287fb80f0cc6",
        "colab": {
          "base_uri": "https://localhost:8080/"
        }
      },
      "execution_count": 59,
      "outputs": [
        {
          "output_type": "stream",
          "name": "stdout",
          "text": [
            "/kaggle/input\n",
            "/kaggle/input/2d-floor-plan-dataset-with-text-descriptions-new\n",
            "/kaggle/input/2d-floor-plan-dataset-with-text-descriptions-new/human_annotated_images\n"
          ]
        }
      ]
    },
    {
      "cell_type": "code",
      "source": [
        "DIRECTORY = \"/kaggle/input/2d-floor-plan-dataset-with-text-descriptions-new/\""
      ],
      "metadata": {
        "execution": {
          "iopub.status.busy": "2024-05-02T23:02:01.931267Z",
          "iopub.execute_input": "2024-05-02T23:02:01.931682Z",
          "iopub.status.idle": "2024-05-02T23:02:01.936574Z",
          "shell.execute_reply.started": "2024-05-02T23:02:01.931643Z",
          "shell.execute_reply": "2024-05-02T23:02:01.935557Z"
        },
        "trusted": true,
        "id": "ppAK1db26Ye0"
      },
      "execution_count": 60,
      "outputs": []
    },
    {
      "cell_type": "code",
      "source": [
        "import matplotlib.pyplot as plt\n",
        "from PIL import Image\n",
        "\n",
        "image_path = DIRECTORY + df['Image_Path'][0]\n",
        "\n",
        "image = Image.open(image_path)\n",
        "\n",
        "plt.imshow(image)\n",
        "plt.axis('off')\n",
        "plt.show()"
      ],
      "metadata": {
        "execution": {
          "iopub.status.busy": "2024-05-02T23:02:01.937848Z",
          "iopub.execute_input": "2024-05-02T23:02:01.938164Z",
          "iopub.status.idle": "2024-05-02T23:02:02.091601Z",
          "shell.execute_reply.started": "2024-05-02T23:02:01.938137Z",
          "shell.execute_reply": "2024-05-02T23:02:02.090118Z"
        },
        "trusted": true,
        "id": "frmy03af6Ye0",
        "outputId": "cc7d44c1-036c-4955-bc38-fd6680c75189",
        "colab": {
          "base_uri": "https://localhost:8080/",
          "height": 406
        }
      },
      "execution_count": 61,
      "outputs": [
        {
          "output_type": "display_data",
          "data": {
            "text/plain": [
              "<Figure size 640x480 with 1 Axes>"
            ],
            "image/png": "[encoded data removed]"
          },
          "metadata": {}
        }
      ]
    },
    {
      "cell_type": "markdown",
      "source": [
        "# Splitting Dataset into test and Train"
      ],
      "metadata": {
        "id": "cy81NaYV6Ye0"
      }
    },
    {
      "cell_type": "code",
      "source": [
        "import numpy as np\n",
        "from sklearn.model_selection import train_test_split\n",
        "from PIL import Image\n",
        "\n",
        "X_text_embeddings = np.array(df['BERT_Embeddings'].tolist())\n",
        "image_paths = df['Image_Path'].tolist()\n",
        "\n",
        "X_images = []\n",
        "for path in image_paths:\n",
        "    path = DIRECTORY + path\n",
        "    image = Image.open(path)\n",
        "    image_array = np.array(image) / 255.0\n",
        "    X_images.append(image_array)\n",
        "\n",
        "X_text_embeddings = np.array(X_text_embeddings)\n",
        "X_images = np.array(X_images)\n",
        "\n",
        "y = np.arange(len(df))\n",
        "\n",
        "X_train_text, X_test_text, X_train_images, X_test_images, y_train, y_test = train_test_split(\n",
        "    X_text_embeddings, X_images, y, test_size=0.1, random_state=42\n",
        ")\n",
        "\n",
        "print(\"X_train_text shape:\", X_train_text.shape)\n",
        "print(\"X_train_images shape:\", X_train_images.shape)\n",
        "print(\"y_train shape:\", y_train.shape)\n",
        "print(\"X_test_text shape:\", X_test_text.shape)\n",
        "print(\"X_test_images shape:\", X_test_images.shape)\n",
        "print(\"y_test shape:\", y_test.shape)\n"
      ],
      "metadata": {
        "execution": {
          "iopub.status.busy": "2024-05-02T23:02:04.45381Z",
          "iopub.execute_input": "2024-05-02T23:02:04.454183Z",
          "iopub.status.idle": "2024-05-02T23:02:31.163445Z",
          "shell.execute_reply.started": "2024-05-02T23:02:04.454155Z",
          "shell.execute_reply": "2024-05-02T23:02:31.162096Z"
        },
        "trusted": true,
        "id": "Bp81jOnA6Ye1",
        "colab": {
          "base_uri": "https://localhost:8080/"
        },
        "outputId": "43233138-166a-4480-ad18-6a88d3eab5e5"
      },
      "execution_count": 62,
      "outputs": [
        {
          "output_type": "stream",
          "name": "stdout",
          "text": [
            "X_train_text shape: (3602, 1, 768)\n",
            "X_train_images shape: (3602, 256, 256, 3)\n",
            "y_train shape: (3602,)\n",
            "X_test_text shape: (401, 1, 768)\n",
            "X_test_images shape: (401, 256, 256, 3)\n",
            "y_test shape: (401,)\n"
          ]
        }
      ]
    },
    {
      "cell_type": "code",
      "source": [
        "X_train_text = X_train_text.reshape(X_train_text.shape[0], -1)\n",
        "X_test_text = X_test_text.reshape(X_test_text.shape[0], -1)\n",
        "\n",
        "print(\"Reshaped X_train_text shape:\", X_train_text.shape)\n",
        "print(\"Reshaped X_test_text shape:\", X_test_text.shape)"
      ],
      "metadata": {
        "execution": {
          "iopub.status.busy": "2024-05-02T23:02:31.165402Z",
          "iopub.execute_input": "2024-05-02T23:02:31.165734Z",
          "iopub.status.idle": "2024-05-02T23:02:31.173057Z",
          "shell.execute_reply.started": "2024-05-02T23:02:31.165702Z",
          "shell.execute_reply": "2024-05-02T23:02:31.171721Z"
        },
        "trusted": true,
        "id": "rF0m1S5H6Ye1",
        "colab": {
          "base_uri": "https://localhost:8080/"
        },
        "outputId": "e6a03b43-696a-49bc-db15-986ce76e55f3"
      },
      "execution_count": 63,
      "outputs": [
        {
          "output_type": "stream",
          "name": "stdout",
          "text": [
            "Reshaped X_train_text shape: (3602, 768)\n",
            "Reshaped X_test_text shape: (401, 768)\n"
          ]
        }
      ]
    },
    {
      "cell_type": "markdown",
      "source": [
        "### Shape of Final Data"
      ],
      "metadata": {
        "id": "frcVpkJY6Ye1"
      }
    },
    {
      "cell_type": "code",
      "source": [
        "print(\"X_train_text shape:\", X_train_text.shape)\n",
        "print(\"X_train_images shape:\", X_train_images.shape)\n",
        "\n",
        "print(\"X_test_text shape:\", X_test_text.shape)\n",
        "print(\"X_test_images shape:\", X_test_images.shape)"
      ],
      "metadata": {
        "execution": {
          "iopub.status.busy": "2024-05-02T23:02:31.174789Z",
          "iopub.execute_input": "2024-05-02T23:02:31.175141Z",
          "iopub.status.idle": "2024-05-02T23:02:31.184616Z",
          "shell.execute_reply.started": "2024-05-02T23:02:31.175109Z",
          "shell.execute_reply": "2024-05-02T23:02:31.183405Z"
        },
        "trusted": true,
        "id": "ljBW16bj6Ye1",
        "outputId": "56d6e8ca-19e5-40e4-88b5-b0047c1974d7",
        "colab": {
          "base_uri": "https://localhost:8080/"
        }
      },
      "execution_count": 64,
      "outputs": [
        {
          "output_type": "stream",
          "name": "stdout",
          "text": [
            "X_train_text shape: (3602, 768)\n",
            "X_train_images shape: (3602, 256, 256, 3)\n",
            "X_test_text shape: (401, 768)\n",
            "X_test_images shape: (401, 256, 256, 3)\n"
          ]
        }
      ]
    },
    {
      "cell_type": "code",
      "source": [
        "type(X_train_images)"
      ],
      "metadata": {
        "execution": {
          "iopub.status.busy": "2024-05-02T23:02:31.187645Z",
          "iopub.execute_input": "2024-05-02T23:02:31.188193Z",
          "iopub.status.idle": "2024-05-02T23:02:31.198231Z",
          "shell.execute_reply.started": "2024-05-02T23:02:31.188152Z",
          "shell.execute_reply": "2024-05-02T23:02:31.197033Z"
        },
        "trusted": true,
        "id": "5c_DaZYd6Ye1",
        "outputId": "6f37cb76-4f10-4c3a-ccb5-1fe19caacee7",
        "colab": {
          "base_uri": "https://localhost:8080/"
        }
      },
      "execution_count": 65,
      "outputs": [
        {
          "output_type": "execute_result",
          "data": {
            "text/plain": [
              "numpy.ndarray"
            ]
          },
          "metadata": {},
          "execution_count": 65
        }
      ]
    },
    {
      "cell_type": "code",
      "source": [
        "data = X_train_images[2]\n",
        "from matplotlib import pyplot as plt\n",
        "plt.imshow(data, interpolation='nearest')\n",
        "plt.show()"
      ],
      "metadata": {
        "execution": {
          "iopub.status.busy": "2024-05-02T23:02:31.199555Z",
          "iopub.execute_input": "2024-05-02T23:02:31.199886Z",
          "iopub.status.idle": "2024-05-02T23:02:31.427381Z",
          "shell.execute_reply.started": "2024-05-02T23:02:31.199848Z",
          "shell.execute_reply": "2024-05-02T23:02:31.426331Z"
        },
        "trusted": true,
        "id": "Hty3JXJW6Ye1",
        "outputId": "11e7eabf-9574-4c36-a1a0-aaa1c04d07de",
        "colab": {
          "base_uri": "https://localhost:8080/",
          "height": 435
        }
      },
      "execution_count": 66,
      "outputs": [
        {
          "output_type": "display_data",
          "data": {
            "text/plain": [
              "<Figure size 640x480 with 1 Axes>"
            ],
            "image/png": "[encoded data removed]"
          },
          "metadata": {}
        }
      ]
    },
    {
      "cell_type": "code",
      "source": [
        "X_train_images.shape"
      ],
      "metadata": {
        "execution": {
          "iopub.status.busy": "2024-05-02T23:02:31.428748Z",
          "iopub.execute_input": "2024-05-02T23:02:31.429087Z",
          "iopub.status.idle": "2024-05-02T23:02:31.435587Z",
          "shell.execute_reply.started": "2024-05-02T23:02:31.429057Z",
          "shell.execute_reply": "2024-05-02T23:02:31.434567Z"
        },
        "trusted": true,
        "id": "6r8MHMGu6Ye2",
        "outputId": "398caf9a-a053-4c5c-dbd0-4b21c716c626",
        "colab": {
          "base_uri": "https://localhost:8080/"
        }
      },
      "execution_count": 67,
      "outputs": [
        {
          "output_type": "execute_result",
          "data": {
            "text/plain": [
              "(3602, 256, 256, 3)"
            ]
          },
          "metadata": {},
          "execution_count": 67
        }
      ]
    },
    {
      "cell_type": "markdown",
      "source": [
        "## Resizing images to lower dimension"
      ],
      "metadata": {
        "id": "LEOjDUR36Ye2"
      }
    },
    {
      "cell_type": "code",
      "source": [
        "import cv2\n",
        "resized_images = []\n",
        "\n",
        "new_width = 64\n",
        "new_height = 64\n",
        "\n",
        "for image in X_train_images:\n",
        "    resized_img = cv2.resize(image, (new_width, new_height))\n",
        "    resized_images.append(resized_img)"
      ],
      "metadata": {
        "execution": {
          "iopub.status.busy": "2024-05-02T23:02:31.437138Z",
          "iopub.execute_input": "2024-05-02T23:02:31.437454Z",
          "iopub.status.idle": "2024-05-02T23:02:32.265344Z",
          "shell.execute_reply.started": "2024-05-02T23:02:31.437426Z",
          "shell.execute_reply": "2024-05-02T23:02:32.264297Z"
        },
        "trusted": true,
        "id": "72DVz7wr6Ye2"
      },
      "execution_count": 68,
      "outputs": []
    },
    {
      "cell_type": "code",
      "source": [
        "data = resized_images[2]\n",
        "from matplotlib import pyplot as plt\n",
        "plt.imshow(data, interpolation='nearest')\n",
        "plt.show()"
      ],
      "metadata": {
        "execution": {
          "iopub.status.busy": "2024-05-02T23:02:32.266679Z",
          "iopub.execute_input": "2024-05-02T23:02:32.267042Z",
          "iopub.status.idle": "2024-05-02T23:02:32.474694Z",
          "shell.execute_reply.started": "2024-05-02T23:02:32.267009Z",
          "shell.execute_reply": "2024-05-02T23:02:32.473718Z"
        },
        "trusted": true,
        "id": "EFt_1aYI6Ye2",
        "outputId": "853473d2-586b-4ac3-d749-326d14f3bc8e",
        "colab": {
          "base_uri": "https://localhost:8080/",
          "height": 432
        }
      },
      "execution_count": 69,
      "outputs": [
        {
          "output_type": "display_data",
          "data": {
            "text/plain": [
              "<Figure size 640x480 with 1 Axes>"
            ],
            "image/png": "[encoded data removed]"
          },
          "metadata": {}
        }
      ]
    },
    {
      "cell_type": "code",
      "source": [
        "X_train_images_resized = np.array(resized_images)"
      ],
      "metadata": {
        "execution": {
          "iopub.status.busy": "2024-05-02T23:02:32.476045Z",
          "iopub.execute_input": "2024-05-02T23:02:32.476351Z",
          "iopub.status.idle": "2024-05-02T23:02:32.595457Z",
          "shell.execute_reply.started": "2024-05-02T23:02:32.476324Z",
          "shell.execute_reply": "2024-05-02T23:02:32.594457Z"
        },
        "trusted": true,
        "id": "rktz2xQZ6Ye2"
      },
      "execution_count": 70,
      "outputs": []
    },
    {
      "cell_type": "code",
      "source": [
        "print(X_train_images_resized.shape)\n",
        "print(X_train_text.shape)"
      ],
      "metadata": {
        "execution": {
          "iopub.status.busy": "2024-05-02T23:02:32.59875Z",
          "iopub.execute_input": "2024-05-02T23:02:32.599114Z",
          "iopub.status.idle": "2024-05-02T23:02:32.604408Z",
          "shell.execute_reply.started": "2024-05-02T23:02:32.599083Z",
          "shell.execute_reply": "2024-05-02T23:02:32.603367Z"
        },
        "trusted": true,
        "id": "ErR3YXKd6Ye2",
        "outputId": "c5ee1462-0bc2-4231-b0b9-b98797b3524c",
        "colab": {
          "base_uri": "https://localhost:8080/"
        }
      },
      "execution_count": 71,
      "outputs": [
        {
          "output_type": "stream",
          "name": "stdout",
          "text": [
            "(3602, 64, 64, 3)\n",
            "(3602, 768)\n"
          ]
        }
      ]
    },
    {
      "cell_type": "code",
      "source": [
        "data = X_train_images_resized[2]\n",
        "from matplotlib import pyplot as plt\n",
        "plt.imshow(data, interpolation='nearest')\n",
        "plt.show()"
      ],
      "metadata": {
        "execution": {
          "iopub.status.busy": "2024-05-02T23:02:32.605919Z",
          "iopub.execute_input": "2024-05-02T23:02:32.606747Z",
          "iopub.status.idle": "2024-05-02T23:02:32.878338Z",
          "shell.execute_reply.started": "2024-05-02T23:02:32.606708Z",
          "shell.execute_reply": "2024-05-02T23:02:32.877203Z"
        },
        "trusted": true,
        "id": "hRsdLjo_6Ye2",
        "outputId": "7f42a774-67e5-48f5-9b4f-3501c47e63ad",
        "colab": {
          "base_uri": "https://localhost:8080/",
          "height": 432
        }
      },
      "execution_count": 72,
      "outputs": [
        {
          "output_type": "display_data",
          "data": {
            "text/plain": [
              "<Figure size 640x480 with 1 Axes>"
            ],
            "image/png": "[encoded data removed]"
          },
          "metadata": {}
        }
      ]
    },
    {
      "cell_type": "markdown",
      "source": [
        "# Applying GANs model"
      ],
      "metadata": {
        "id": "FByqCc4t6Ye2"
      }
    },
    {
      "cell_type": "code",
      "source": [
        "print(X_train_images_resized.shape)\n",
        "print(X_train_text.shape)"
      ],
      "metadata": {
        "execution": {
          "iopub.status.busy": "2024-05-02T23:02:32.879546Z",
          "iopub.execute_input": "2024-05-02T23:02:32.879857Z",
          "iopub.status.idle": "2024-05-02T23:02:32.885656Z",
          "shell.execute_reply.started": "2024-05-02T23:02:32.87983Z",
          "shell.execute_reply": "2024-05-02T23:02:32.884539Z"
        },
        "trusted": true,
        "id": "s9AkLpFD6Ye2",
        "outputId": "d70696d8-f81e-431b-b4d5-32327364f117",
        "colab": {
          "base_uri": "https://localhost:8080/"
        }
      },
      "execution_count": 73,
      "outputs": [
        {
          "output_type": "stream",
          "name": "stdout",
          "text": [
            "(3602, 64, 64, 3)\n",
            "(3602, 768)\n"
          ]
        }
      ]
    },
    {
      "cell_type": "markdown",
      "source": [
        "## Using a subset of data to train (for initial testing) (done)"
      ],
      "metadata": {
        "id": "69O0kxNH6Ye2"
      }
    },
    {
      "cell_type": "code",
      "source": [
        "train_images = X_train_images_resized\n",
        "train_text = X_train_text"
      ],
      "metadata": {
        "execution": {
          "iopub.status.busy": "2024-05-02T23:02:32.887236Z",
          "iopub.execute_input": "2024-05-02T23:02:32.887639Z",
          "iopub.status.idle": "2024-05-02T23:02:32.896129Z",
          "shell.execute_reply.started": "2024-05-02T23:02:32.8876Z",
          "shell.execute_reply": "2024-05-02T23:02:32.894961Z"
        },
        "trusted": true,
        "id": "4fSIxag-6Ye2"
      },
      "execution_count": 74,
      "outputs": []
    },
    {
      "cell_type": "markdown",
      "source": [
        "#### this train_images and train_text data will be used to train our gans model"
      ],
      "metadata": {
        "id": "As1CEtbH6Ye2"
      }
    },
    {
      "cell_type": "code",
      "source": [
        "print(train_images.shape)\n",
        "print(train_text.shape)"
      ],
      "metadata": {
        "execution": {
          "iopub.status.busy": "2024-05-02T23:02:32.897415Z",
          "iopub.execute_input": "2024-05-02T23:02:32.897723Z",
          "iopub.status.idle": "2024-05-02T23:02:32.906817Z",
          "shell.execute_reply.started": "2024-05-02T23:02:32.897686Z",
          "shell.execute_reply": "2024-05-02T23:02:32.905662Z"
        },
        "trusted": true,
        "id": "Cyied8J76Ye3",
        "outputId": "1c224805-69ea-4a59-fa5b-7e6d50d417a7",
        "colab": {
          "base_uri": "https://localhost:8080/"
        }
      },
      "execution_count": 75,
      "outputs": [
        {
          "output_type": "stream",
          "name": "stdout",
          "text": [
            "(3602, 64, 64, 3)\n",
            "(3602, 768)\n"
          ]
        }
      ]
    },
    {
      "cell_type": "markdown",
      "source": [
        "#### testing done, now will train on entire dataset."
      ],
      "metadata": {
        "id": "1PAGle236Ye3"
      }
    },
    {
      "cell_type": "markdown",
      "source": [
        "# Generator Architecture"
      ],
      "metadata": {
        "id": "nQl3g8Sx6Ye3"
      }
    },
    {
      "cell_type": "code",
      "source": [
        "import tensorflow as tf\n",
        "from tensorflow.keras import layers, models, optimizers, losses\n",
        "import matplotlib.pyplot as plt\n",
        "\n",
        "def build_generator(input_size):\n",
        "    model = models.Sequential()\n",
        "\n",
        "    model.add(layers.Dense(8192, input_shape=(input_size,)))\n",
        "    model.add(layers.BatchNormalization())\n",
        "    model.add(layers.ReLU())\n",
        "\n",
        "    model.add(layers.Reshape((4, 4, 512)))\n",
        "    model.add(layers.Conv2DTranspose(256, (5, 5), strides=(2, 2), padding='same'))\n",
        "    model.add(layers.BatchNormalization())\n",
        "    model.add(layers.ReLU())\n",
        "\n",
        "    model.add(layers.Conv2DTranspose(128, (5, 5), strides=(2, 2), padding='same'))\n",
        "    model.add(layers.BatchNormalization())\n",
        "    model.add(layers.ReLU())\n",
        "\n",
        "    model.add(layers.Conv2DTranspose(64, (5, 5), strides=(2, 2), padding='same'))\n",
        "    model.add(layers.BatchNormalization())\n",
        "    model.add(layers.ReLU())\n",
        "\n",
        "    model.add(layers.Conv2DTranspose(3, (5, 5), strides=(2, 2), padding='same', activation='tanh'))\n",
        "\n",
        "    return model\n",
        "\n",
        "generator = build_generator(input_size=100)\n",
        "generator.summary()"
      ],
      "metadata": {
        "execution": {
          "iopub.status.busy": "2024-05-02T23:49:52.32173Z",
          "iopub.execute_input": "2024-05-02T23:49:52.322389Z",
          "iopub.status.idle": "2024-05-02T23:49:52.534861Z",
          "shell.execute_reply.started": "2024-05-02T23:49:52.322355Z",
          "shell.execute_reply": "2024-05-02T23:49:52.533936Z"
        },
        "trusted": true,
        "id": "1XMnnw-t6Ye3",
        "outputId": "35e410a8-0082-4602-ded2-f9e570a6e092",
        "colab": {
          "base_uri": "https://localhost:8080/"
        }
      },
      "execution_count": 76,
      "outputs": [
        {
          "output_type": "stream",
          "name": "stdout",
          "text": [
            "Model: \"sequential_15\"\n",
            "_________________________________________________________________\n",
            " Layer (type)                Output Shape              Param #   \n",
            "=================================================================\n",
            " dense_28 (Dense)            (None, 8192)              827392    \n",
            "                                                                 \n",
            " batch_normalization_24 (Ba  (None, 8192)              32768     \n",
            " tchNormalization)                                               \n",
            "                                                                 \n",
            " re_lu_24 (ReLU)             (None, 8192)              0         \n",
            "                                                                 \n",
            " reshape_11 (Reshape)        (None, 4, 4, 512)         0         \n",
            "                                                                 \n",
            " conv2d_transpose_39 (Conv2  (None, 8, 8, 256)         3277056   \n",
            " DTranspose)                                                     \n",
            "                                                                 \n",
            " batch_normalization_25 (Ba  (None, 8, 8, 256)         1024      \n",
            " tchNormalization)                                               \n",
            "                                                                 \n",
            " re_lu_25 (ReLU)             (None, 8, 8, 256)         0         \n",
            "                                                                 \n",
            " conv2d_transpose_40 (Conv2  (None, 16, 16, 128)       819328    \n",
            " DTranspose)                                                     \n",
            "                                                                 \n",
            " batch_normalization_26 (Ba  (None, 16, 16, 128)       512       \n",
            " tchNormalization)                                               \n",
            "                                                                 \n",
            " re_lu_26 (ReLU)             (None, 16, 16, 128)       0         \n",
            "                                                                 \n",
            " conv2d_transpose_41 (Conv2  (None, 32, 32, 64)        204864    \n",
            " DTranspose)                                                     \n",
            "                                                                 \n",
            " batch_normalization_27 (Ba  (None, 32, 32, 64)        256       \n",
            " tchNormalization)                                               \n",
            "                                                                 \n",
            " re_lu_27 (ReLU)             (None, 32, 32, 64)        0         \n",
            "                                                                 \n",
            " conv2d_transpose_42 (Conv2  (None, 64, 64, 3)         4803      \n",
            " DTranspose)                                                     \n",
            "                                                                 \n",
            "=================================================================\n",
            "Total params: 5168003 (19.71 MB)\n",
            "Trainable params: 5150723 (19.65 MB)\n",
            "Non-trainable params: 17280 (67.50 KB)\n",
            "_________________________________________________________________\n"
          ]
        }
      ]
    },
    {
      "cell_type": "markdown",
      "source": [
        "# Discriminator Architecture"
      ],
      "metadata": {
        "id": "MHYZVwPW6Ye3"
      }
    },
    {
      "cell_type": "code",
      "source": [
        "def build_discriminator():\n",
        "    model = models.Sequential()\n",
        "\n",
        "    model.add(layers.Conv2D(64, (5, 5), strides=(2, 2), padding='same', input_shape=[64, 64, 3]))\n",
        "    model.add(layers.LeakyReLU(0.2))\n",
        "\n",
        "    model.add(layers.Conv2D(128, (5, 5), strides=(2, 2), padding='same'))\n",
        "    model.add(layers.LeakyReLU(0.2))\n",
        "\n",
        "    model.add(layers.Conv2D(256, (5, 5), strides=(2, 2), padding='same'))\n",
        "    model.add(layers.LeakyReLU(0.2))\n",
        "\n",
        "    model.add(layers.Conv2D(512, (5, 5), strides=(2, 2), padding='same'))\n",
        "    model.add(layers.LeakyReLU(0.2))\n",
        "    model.add(layers.Flatten())\n",
        "    model.add(layers.Dense(1, activation='sigmoid'))\n",
        "\n",
        "    return model\n",
        "discriminator = build_discriminator()\n",
        "discriminator.summary()"
      ],
      "metadata": {
        "execution": {
          "iopub.status.busy": "2024-05-02T23:50:27.272831Z",
          "iopub.execute_input": "2024-05-02T23:50:27.273261Z",
          "iopub.status.idle": "2024-05-02T23:50:27.410281Z",
          "shell.execute_reply.started": "2024-05-02T23:50:27.273226Z",
          "shell.execute_reply": "2024-05-02T23:50:27.409205Z"
        },
        "trusted": true,
        "id": "HciaX8b96Ye3",
        "outputId": "22c03476-e459-4936-c4b2-4c1270066456",
        "colab": {
          "base_uri": "https://localhost:8080/"
        }
      },
      "execution_count": 77,
      "outputs": [
        {
          "output_type": "stream",
          "name": "stdout",
          "text": [
            "Model: \"sequential_16\"\n",
            "_________________________________________________________________\n",
            " Layer (type)                Output Shape              Param #   \n",
            "=================================================================\n",
            " conv2d_64 (Conv2D)          (None, 32, 32, 64)        4864      \n",
            "                                                                 \n",
            " leaky_re_lu_52 (LeakyReLU)  (None, 32, 32, 64)        0         \n",
            "                                                                 \n",
            " conv2d_65 (Conv2D)          (None, 16, 16, 128)       204928    \n",
            "                                                                 \n",
            " leaky_re_lu_53 (LeakyReLU)  (None, 16, 16, 128)       0         \n",
            "                                                                 \n",
            " conv2d_66 (Conv2D)          (None, 8, 8, 256)         819456    \n",
            "                                                                 \n",
            " leaky_re_lu_54 (LeakyReLU)  (None, 8, 8, 256)         0         \n",
            "                                                                 \n",
            " conv2d_67 (Conv2D)          (None, 4, 4, 512)         3277312   \n",
            "                                                                 \n",
            " leaky_re_lu_55 (LeakyReLU)  (None, 4, 4, 512)         0         \n",
            "                                                                 \n",
            " flatten_17 (Flatten)        (None, 8192)              0         \n",
            "                                                                 \n",
            " dense_29 (Dense)            (None, 1)                 8193      \n",
            "                                                                 \n",
            "=================================================================\n",
            "Total params: 4314753 (16.46 MB)\n",
            "Trainable params: 4314753 (16.46 MB)\n",
            "Non-trainable params: 0 (0.00 Byte)\n",
            "_________________________________________________________________\n"
          ]
        }
      ]
    },
    {
      "cell_type": "code",
      "source": [
        "d_losses = []\n",
        "g_losses = []"
      ],
      "metadata": {
        "execution": {
          "iopub.status.busy": "2024-05-02T23:24:19.5742Z",
          "iopub.execute_input": "2024-05-02T23:24:19.575129Z",
          "iopub.status.idle": "2024-05-02T23:24:19.579367Z",
          "shell.execute_reply.started": "2024-05-02T23:24:19.575085Z",
          "shell.execute_reply": "2024-05-02T23:24:19.578383Z"
        },
        "trusted": true,
        "id": "mkRjRxzt6Ye3"
      },
      "execution_count": 78,
      "outputs": []
    },
    {
      "cell_type": "markdown",
      "source": [
        "## Training loop"
      ],
      "metadata": {
        "id": "dIv0K_Aj6Ye3"
      }
    },
    {
      "cell_type": "code",
      "source": [
        "import tensorflow as tf\n",
        "from tensorflow.keras import layers, models, optimizers, losses\n",
        "\n",
        "generator = build_generator(input_size=100)\n",
        "discriminator = build_discriminator()\n",
        "\n",
        "@tf.keras.utils.register_keras_serializable()\n",
        "class GAN(tf.keras.Model):\n",
        "    def __init__(self, generator, discriminator):\n",
        "        super(GAN, self).__init__()\n",
        "        self.generator = generator\n",
        "        self.discriminator = discriminator\n",
        "\n",
        "    def compile(self, g_optimizer, d_optimizer, loss_function):\n",
        "        super(GAN, self).compile()\n",
        "        self.g_optimizer = g_optimizer\n",
        "        self.d_optimizer = d_optimizer\n",
        "        self.loss_function = loss_function\n",
        "\n",
        "    def train_step(self, real_images):\n",
        "        batch_size = tf.shape(real_images)[0]\n",
        "\n",
        "        with tf.GradientTape() as disc_tape:\n",
        "            generated_images = self.generator(tf.random.normal([batch_size, 100]), training=True)\n",
        "\n",
        "            real_output = self.discriminator(real_images, training=True)\n",
        "            fake_output = self.discriminator(generated_images, training=True)\n",
        "\n",
        "            disc_loss = self.loss_function(tf.ones_like(real_output), real_output) + \\\n",
        "                        self.loss_function(tf.zeros_like(fake_output), fake_output)\n",
        "\n",
        "        gradients_of_discriminator = disc_tape.gradient(disc_loss, self.discriminator.trainable_variables)\n",
        "        self.d_optimizer.apply_gradients(zip(gradients_of_discriminator, self.discriminator.trainable_variables))\n",
        "\n",
        "        with tf.GradientTape() as gen_tape:\n",
        "            generated_images = self.generator(tf.random.normal([batch_size, 100]), training=True)\n",
        "            fake_output = self.discriminator(generated_images, training=True)\n",
        "            gen_loss = self.loss_function(tf.ones_like(fake_output), fake_output)\n",
        "\n",
        "        gradients_of_generator = gen_tape.gradient(gen_loss, self.generator.trainable_variables)\n",
        "        self.g_optimizer.apply_gradients(zip(gradients_of_generator, self.generator.trainable_variables))\n",
        "\n",
        "        return {'d_loss': disc_loss, 'g_loss': gen_loss}\n",
        "\n",
        "gan = GAN(generator=generator, discriminator=discriminator)\n",
        "\n",
        "gan.compile(\n",
        "    g_optimizer=optimizers.Adam(1e-4),\n",
        "    d_optimizer=optimizers.Adam(1e-4),\n",
        "    loss_function=losses.BinaryCrossentropy()\n",
        ")"
      ],
      "metadata": {
        "execution": {
          "iopub.status.busy": "2024-05-02T23:54:43.179475Z",
          "iopub.execute_input": "2024-05-02T23:54:43.179915Z",
          "iopub.status.idle": "2024-05-02T23:54:43.467927Z",
          "shell.execute_reply.started": "2024-05-02T23:54:43.179868Z",
          "shell.execute_reply": "2024-05-02T23:54:43.467046Z"
        },
        "trusted": true,
        "id": "iZKpJfpe6Ye7"
      },
      "execution_count": 86,
      "outputs": []
    },
    {
      "cell_type": "markdown",
      "source": [
        "# Loading Data"
      ],
      "metadata": {
        "id": "1Yy-Ncqp6Ye7"
      }
    },
    {
      "cell_type": "code",
      "source": [
        "import tensorflow as tf\n",
        "\n",
        "batch_size = 32\n",
        "train_dataset = tf.data.Dataset.from_tensor_slices((train_images, train_text))\n",
        "train_dataset = train_dataset.shuffle(buffer_size=500).batch(batch_size)\n",
        "print(train_dataset.element_spec)\n",
        "\n",
        "d_losses = []\n",
        "g_losses = []\n",
        "\n",
        "iterations_per_epoch = len(train_dataset)"
      ],
      "metadata": {
        "execution": {
          "iopub.status.busy": "2024-05-02T23:55:12.742317Z",
          "iopub.execute_input": "2024-05-02T23:55:12.742747Z",
          "iopub.status.idle": "2024-05-02T23:55:13.64518Z",
          "shell.execute_reply.started": "2024-05-02T23:55:12.742701Z",
          "shell.execute_reply": "2024-05-02T23:55:13.644166Z"
        },
        "trusted": true,
        "id": "0Ix0hgM76Ye8",
        "outputId": "0f1e87b9-567d-4940-b20c-be1eb9b53a44",
        "colab": {
          "base_uri": "https://localhost:8080/"
        }
      },
      "execution_count": 87,
      "outputs": [
        {
          "output_type": "stream",
          "name": "stdout",
          "text": [
            "(TensorSpec(shape=(None, 64, 64, 3), dtype=tf.float64, name=None), TensorSpec(shape=(None, 768), dtype=tf.float32, name=None))\n"
          ]
        }
      ]
    },
    {
      "cell_type": "markdown",
      "source": [
        "# Training"
      ],
      "metadata": {
        "id": "3uB77omp6Ye8"
      }
    },
    {
      "cell_type": "code",
      "source": [
        "epochs = 500\n",
        "for epoch in range(epochs):\n",
        "    for real_images, _ in train_dataset:\n",
        "\n",
        "        with tf.GradientTape() as disc_tape:\n",
        "            generated_images = gan.generator(tf.random.normal([batch_size, 100]), training=True)\n",
        "            real_output = gan.discriminator(real_images, training=True)\n",
        "            fake_output = gan.discriminator(generated_images, training=True)\n",
        "\n",
        "            disc_loss = gan.loss_function(tf.ones_like(real_output), real_output) + \\\n",
        "                        gan.loss_function(tf.zeros_like(fake_output), fake_output)\n",
        "\n",
        "        gradients_of_discriminator = disc_tape.gradient(disc_loss, gan.discriminator.trainable_variables)\n",
        "        gan.d_optimizer.apply_gradients(zip(gradients_of_discriminator, gan.discriminator.trainable_variables))\n",
        "\n",
        "        with tf.GradientTape() as gen_tape:\n",
        "            generated_images = gan.generator(tf.random.normal([batch_size, 100]), training=True)\n",
        "            fake_output = gan.discriminator(generated_images, training=True)\n",
        "            gen_loss = gan.loss_function(tf.ones_like(fake_output), fake_output)\n",
        "\n",
        "        gradients_of_generator = gen_tape.gradient(gen_loss, gan.generator.trainable_variables)\n",
        "        gan.g_optimizer.apply_gradients(zip(gradients_of_generator, gan.generator.trainable_variables))\n",
        "\n",
        "    print(f\"Epoch {epoch+1}/{epochs}, Discriminator Loss: {disc_loss.numpy()}, Generator Loss: {gen_loss.numpy()}\")\n",
        "    d_losses.append(disc_loss.numpy())\n",
        "    g_losses.append(gen_loss.numpy())"
      ],
      "metadata": {
        "execution": {
          "iopub.status.busy": "2024-05-02T23:55:47.090339Z",
          "iopub.execute_input": "2024-05-02T23:55:47.090726Z",
          "iopub.status.idle": "2024-05-02T23:58:47.339673Z",
          "shell.execute_reply.started": "2024-05-02T23:55:47.090695Z",
          "shell.execute_reply": "2024-05-02T23:58:47.338645Z"
        },
        "trusted": true,
        "id": "0v-7UJDT6Ye8",
        "outputId": "9652307c-832b-4c28-97ec-74e216264d32",
        "colab": {
          "base_uri": "https://localhost:8080/"
        }
      },
      "execution_count": 88,
      "outputs": [
        {
          "output_type": "stream",
          "name": "stdout",
          "text": [
            "Epoch 1/500, Discriminator Loss: 1.5272932052612305, Generator Loss: 1.9655438661575317\n",
            "Epoch 2/500, Discriminator Loss: 0.8361896872520447, Generator Loss: 3.627810001373291\n",
            "Epoch 3/500, Discriminator Loss: 0.38694798946380615, Generator Loss: 2.705854654312134\n",
            "Epoch 4/500, Discriminator Loss: 1.9388320446014404, Generator Loss: 1.2975819110870361\n",
            "Epoch 5/500, Discriminator Loss: 0.840694010257721, Generator Loss: 0.9819676876068115\n",
            "Epoch 6/500, Discriminator Loss: 1.371047019958496, Generator Loss: 1.5541754961013794\n",
            "Epoch 7/500, Discriminator Loss: 0.6825367212295532, Generator Loss: 1.7427335977554321\n",
            "Epoch 8/500, Discriminator Loss: 0.8928180932998657, Generator Loss: 2.0004115104675293\n",
            "Epoch 9/500, Discriminator Loss: 0.8879518508911133, Generator Loss: 1.0263867378234863\n",
            "Epoch 10/500, Discriminator Loss: 1.467569351196289, Generator Loss: 2.7936651706695557\n",
            "Epoch 11/500, Discriminator Loss: 1.0111099481582642, Generator Loss: 1.8642077445983887\n",
            "Epoch 12/500, Discriminator Loss: 2.0468521118164062, Generator Loss: 0.7958530783653259\n",
            "Epoch 13/500, Discriminator Loss: 0.5713741779327393, Generator Loss: 1.319509744644165\n",
            "Epoch 14/500, Discriminator Loss: 0.4983173906803131, Generator Loss: 2.4293346405029297\n",
            "Epoch 15/500, Discriminator Loss: 0.5163379907608032, Generator Loss: 2.2534260749816895\n",
            "Epoch 16/500, Discriminator Loss: 0.563093900680542, Generator Loss: 2.3803138732910156\n",
            "Epoch 17/500, Discriminator Loss: 0.6426826119422913, Generator Loss: 1.9569861888885498\n",
            "Epoch 18/500, Discriminator Loss: 0.9544634819030762, Generator Loss: 1.3761543035507202\n",
            "Epoch 19/500, Discriminator Loss: 0.4075630009174347, Generator Loss: 2.6002557277679443\n",
            "Epoch 20/500, Discriminator Loss: 0.7035622000694275, Generator Loss: 2.9333181381225586\n",
            "Epoch 21/500, Discriminator Loss: 0.42541950941085815, Generator Loss: 3.309321403503418\n",
            "Epoch 22/500, Discriminator Loss: 3.384434461593628, Generator Loss: 1.90060555934906\n",
            "Epoch 23/500, Discriminator Loss: 0.5235763192176819, Generator Loss: 2.1276497840881348\n",
            "Epoch 24/500, Discriminator Loss: 0.4890550971031189, Generator Loss: 2.860647678375244\n",
            "Epoch 25/500, Discriminator Loss: 0.80165696144104, Generator Loss: 1.6434805393218994\n",
            "Epoch 26/500, Discriminator Loss: 0.2801720201969147, Generator Loss: 2.619105339050293\n",
            "Epoch 27/500, Discriminator Loss: 0.09484200179576874, Generator Loss: 4.35565185546875\n",
            "Epoch 28/500, Discriminator Loss: 0.04514383524656296, Generator Loss: 5.909131050109863\n",
            "Epoch 29/500, Discriminator Loss: 1.26503586769104, Generator Loss: 4.444144248962402\n",
            "Epoch 30/500, Discriminator Loss: 0.3305649757385254, Generator Loss: 5.525786399841309\n",
            "Epoch 31/500, Discriminator Loss: 0.44011950492858887, Generator Loss: 2.764842987060547\n",
            "Epoch 32/500, Discriminator Loss: 0.10608342289924622, Generator Loss: 3.5784835815429688\n",
            "Epoch 33/500, Discriminator Loss: 0.09032130241394043, Generator Loss: 3.649569272994995\n",
            "Epoch 34/500, Discriminator Loss: 0.276854544878006, Generator Loss: 4.5740461349487305\n",
            "Epoch 35/500, Discriminator Loss: 0.535564661026001, Generator Loss: 2.5349535942077637\n",
            "Epoch 36/500, Discriminator Loss: 0.051404617726802826, Generator Loss: 4.395949363708496\n",
            "Epoch 37/500, Discriminator Loss: 1.0264699459075928, Generator Loss: 1.6270959377288818\n",
            "Epoch 38/500, Discriminator Loss: 0.29359132051467896, Generator Loss: 3.7819314002990723\n",
            "Epoch 39/500, Discriminator Loss: 0.028661614283919334, Generator Loss: 6.235138893127441\n",
            "Epoch 40/500, Discriminator Loss: 0.31568199396133423, Generator Loss: 2.6120238304138184\n",
            "Epoch 41/500, Discriminator Loss: 0.6343742609024048, Generator Loss: 4.679765701293945\n",
            "Epoch 42/500, Discriminator Loss: 0.8077325224876404, Generator Loss: 3.9462480545043945\n",
            "Epoch 43/500, Discriminator Loss: 0.09527722001075745, Generator Loss: 6.1492838859558105\n",
            "Epoch 44/500, Discriminator Loss: 0.1507304310798645, Generator Loss: 4.718575477600098\n",
            "Epoch 45/500, Discriminator Loss: 0.028464870527386665, Generator Loss: 4.874129295349121\n",
            "Epoch 46/500, Discriminator Loss: 0.060441792011260986, Generator Loss: 4.613760948181152\n",
            "Epoch 47/500, Discriminator Loss: 0.06142064183950424, Generator Loss: 6.124220371246338\n",
            "Epoch 48/500, Discriminator Loss: 0.011629564687609673, Generator Loss: 5.305307388305664\n",
            "Epoch 49/500, Discriminator Loss: 0.1056174635887146, Generator Loss: 4.292380332946777\n",
            "Epoch 50/500, Discriminator Loss: 0.1518186628818512, Generator Loss: 3.82072114944458\n",
            "Epoch 51/500, Discriminator Loss: 0.027341067790985107, Generator Loss: 5.567239284515381\n",
            "Epoch 52/500, Discriminator Loss: 0.01687357947230339, Generator Loss: 4.499241828918457\n",
            "Epoch 53/500, Discriminator Loss: 0.13099050521850586, Generator Loss: 5.14672327041626\n",
            "Epoch 54/500, Discriminator Loss: 0.20549677312374115, Generator Loss: 5.953268051147461\n",
            "Epoch 55/500, Discriminator Loss: 0.010115500539541245, Generator Loss: 5.024019241333008\n",
            "Epoch 56/500, Discriminator Loss: 0.030968952924013138, Generator Loss: 5.764342308044434\n",
            "Epoch 57/500, Discriminator Loss: 0.21496756374835968, Generator Loss: 3.059680700302124\n",
            "Epoch 58/500, Discriminator Loss: 0.28875160217285156, Generator Loss: 4.701291561126709\n",
            "Epoch 59/500, Discriminator Loss: 0.06639647483825684, Generator Loss: 6.377283096313477\n",
            "Epoch 60/500, Discriminator Loss: 0.002455663401633501, Generator Loss: 7.772525787353516\n",
            "Epoch 61/500, Discriminator Loss: 0.07938125729560852, Generator Loss: 5.1422014236450195\n",
            "Epoch 62/500, Discriminator Loss: 0.002119892742484808, Generator Loss: 7.9433722496032715\n",
            "Epoch 63/500, Discriminator Loss: 0.34803614020347595, Generator Loss: 3.677903175354004\n",
            "Epoch 64/500, Discriminator Loss: 0.006566285155713558, Generator Loss: 5.552731513977051\n",
            "Epoch 65/500, Discriminator Loss: 0.13417665660381317, Generator Loss: 6.124415397644043\n",
            "Epoch 66/500, Discriminator Loss: 0.005354966036975384, Generator Loss: 6.5671210289001465\n",
            "Epoch 67/500, Discriminator Loss: 0.19274936616420746, Generator Loss: 10.65765380859375\n",
            "Epoch 68/500, Discriminator Loss: 0.028750834986567497, Generator Loss: 5.037309169769287\n",
            "Epoch 69/500, Discriminator Loss: 0.11630687117576599, Generator Loss: 4.639081954956055\n",
            "Epoch 70/500, Discriminator Loss: 0.12095409631729126, Generator Loss: 6.2466630935668945\n",
            "Epoch 71/500, Discriminator Loss: 0.07523462176322937, Generator Loss: 6.3185038566589355\n",
            "Epoch 72/500, Discriminator Loss: 0.06807070970535278, Generator Loss: 3.865816593170166\n",
            "Epoch 73/500, Discriminator Loss: 0.0010428214445710182, Generator Loss: 8.157037734985352\n",
            "Epoch 74/500, Discriminator Loss: 0.03670334443449974, Generator Loss: 5.512782573699951\n",
            "Epoch 75/500, Discriminator Loss: 0.015060324221849442, Generator Loss: 6.917250156402588\n",
            "Epoch 76/500, Discriminator Loss: 0.0013693359214812517, Generator Loss: 7.104659080505371\n",
            "Epoch 77/500, Discriminator Loss: 0.002028719987720251, Generator Loss: 7.370146751403809\n",
            "Epoch 78/500, Discriminator Loss: 1.0941718816757202, Generator Loss: 9.554760932922363\n",
            "Epoch 79/500, Discriminator Loss: 0.0021206680685281754, Generator Loss: 7.04197359085083\n",
            "Epoch 80/500, Discriminator Loss: 0.010900164023041725, Generator Loss: 4.922839164733887\n",
            "Epoch 81/500, Discriminator Loss: 4.1112771214102395e-06, Generator Loss: 30.462684631347656\n",
            "Epoch 82/500, Discriminator Loss: 0.02662288397550583, Generator Loss: 4.802462577819824\n",
            "Epoch 83/500, Discriminator Loss: 0.0004090731672476977, Generator Loss: 9.755428314208984\n",
            "Epoch 84/500, Discriminator Loss: 0.052236273884773254, Generator Loss: 4.9320268630981445\n",
            "Epoch 85/500, Discriminator Loss: 0.0018756616627797484, Generator Loss: 6.663848876953125\n",
            "Epoch 86/500, Discriminator Loss: 0.008257422596216202, Generator Loss: 4.994861602783203\n",
            "Epoch 87/500, Discriminator Loss: 0.012494643218815327, Generator Loss: 7.466289520263672\n",
            "Epoch 88/500, Discriminator Loss: 0.007128487806767225, Generator Loss: 5.462620735168457\n",
            "Epoch 89/500, Discriminator Loss: 0.0004388754314277321, Generator Loss: 9.331167221069336\n",
            "Epoch 90/500, Discriminator Loss: 0.4232204556465149, Generator Loss: 4.8858537673950195\n",
            "Epoch 91/500, Discriminator Loss: 0.006639845669269562, Generator Loss: 6.694764137268066\n",
            "Epoch 92/500, Discriminator Loss: 0.007982602342963219, Generator Loss: 7.807900428771973\n",
            "Epoch 93/500, Discriminator Loss: 0.000782107119448483, Generator Loss: 8.12997055053711\n",
            "Epoch 94/500, Discriminator Loss: 0.11854726076126099, Generator Loss: 1.9187294244766235\n",
            "Epoch 95/500, Discriminator Loss: 0.00802132673561573, Generator Loss: 8.434603691101074\n",
            "Epoch 96/500, Discriminator Loss: 0.008882870897650719, Generator Loss: 7.26029109954834\n",
            "Epoch 97/500, Discriminator Loss: 0.003271371591836214, Generator Loss: 8.002117156982422\n",
            "Epoch 98/500, Discriminator Loss: 0.022555219009518623, Generator Loss: 3.987476348876953\n",
            "Epoch 99/500, Discriminator Loss: 0.01173169445246458, Generator Loss: 6.5674943923950195\n",
            "Epoch 100/500, Discriminator Loss: 0.0021377643570303917, Generator Loss: 10.46165943145752\n",
            "Epoch 101/500, Discriminator Loss: 7.754992839181796e-05, Generator Loss: 9.759014129638672\n",
            "Epoch 102/500, Discriminator Loss: 0.00024630140978842974, Generator Loss: 7.49525260925293\n",
            "Epoch 103/500, Discriminator Loss: 0.18336792290210724, Generator Loss: 4.464811325073242\n",
            "Epoch 104/500, Discriminator Loss: 0.013110356405377388, Generator Loss: 5.676212787628174\n",
            "Epoch 105/500, Discriminator Loss: 0.02552388235926628, Generator Loss: 6.010418891906738\n",
            "Epoch 106/500, Discriminator Loss: 0.010712521150708199, Generator Loss: 8.41519546508789\n",
            "Epoch 107/500, Discriminator Loss: 0.0012573356507346034, Generator Loss: 8.01055908203125\n",
            "Epoch 108/500, Discriminator Loss: 0.013931270688772202, Generator Loss: 5.570964336395264\n",
            "Epoch 109/500, Discriminator Loss: 0.2996489405632019, Generator Loss: 7.477408409118652\n",
            "Epoch 110/500, Discriminator Loss: 0.001830149907618761, Generator Loss: 9.311044692993164\n",
            "Epoch 111/500, Discriminator Loss: 0.006083217915147543, Generator Loss: 7.155556678771973\n",
            "Epoch 112/500, Discriminator Loss: 0.003804712789133191, Generator Loss: 7.883347511291504\n",
            "Epoch 113/500, Discriminator Loss: 0.003863581921905279, Generator Loss: 6.818143844604492\n",
            "Epoch 114/500, Discriminator Loss: 0.0005202445317991078, Generator Loss: 7.660715579986572\n",
            "Epoch 115/500, Discriminator Loss: 5.404336116043851e-05, Generator Loss: 15.35774040222168\n",
            "Epoch 116/500, Discriminator Loss: 0.18817991018295288, Generator Loss: 6.558812141418457\n",
            "Epoch 117/500, Discriminator Loss: 0.006414986215531826, Generator Loss: 6.757135391235352\n",
            "Epoch 118/500, Discriminator Loss: 0.018776576966047287, Generator Loss: 5.1582794189453125\n",
            "Epoch 119/500, Discriminator Loss: 0.015952207148075104, Generator Loss: 5.623611927032471\n",
            "Epoch 120/500, Discriminator Loss: 0.001467393827624619, Generator Loss: 7.487471580505371\n",
            "Epoch 121/500, Discriminator Loss: 0.0003316657093819231, Generator Loss: 7.5576629638671875\n",
            "Epoch 122/500, Discriminator Loss: 0.6388101577758789, Generator Loss: 9.957582473754883\n",
            "Epoch 123/500, Discriminator Loss: 0.0019974622409790754, Generator Loss: 7.119691848754883\n",
            "Epoch 124/500, Discriminator Loss: 2.1141418073966634e-06, Generator Loss: 10.888049125671387\n",
            "Epoch 125/500, Discriminator Loss: 0.0070036244578659534, Generator Loss: 7.115854263305664\n",
            "Epoch 126/500, Discriminator Loss: 0.019321853294968605, Generator Loss: 4.673162937164307\n",
            "Epoch 127/500, Discriminator Loss: 0.00877531711012125, Generator Loss: 3.952777624130249\n",
            "Epoch 128/500, Discriminator Loss: 9.985287033487111e-05, Generator Loss: 9.812103271484375\n",
            "Epoch 129/500, Discriminator Loss: 0.0036544245667755604, Generator Loss: 6.2651472091674805\n",
            "Epoch 130/500, Discriminator Loss: 0.0063280086033046246, Generator Loss: 5.487103462219238\n",
            "Epoch 131/500, Discriminator Loss: 0.006869719363749027, Generator Loss: 5.982728004455566\n",
            "Epoch 132/500, Discriminator Loss: 0.034655679017305374, Generator Loss: 6.892289161682129\n",
            "Epoch 133/500, Discriminator Loss: 0.004168223589658737, Generator Loss: 6.970763206481934\n",
            "Epoch 134/500, Discriminator Loss: 0.013499775901436806, Generator Loss: 5.712701797485352\n",
            "Epoch 135/500, Discriminator Loss: 0.022082656621932983, Generator Loss: 3.621171474456787\n",
            "Epoch 136/500, Discriminator Loss: 0.11131025105714798, Generator Loss: 7.969250679016113\n",
            "Epoch 137/500, Discriminator Loss: 0.03642402961850166, Generator Loss: 5.9840192794799805\n",
            "Epoch 138/500, Discriminator Loss: 0.0032292765099555254, Generator Loss: 7.887259006500244\n",
            "Epoch 139/500, Discriminator Loss: 0.05248155817389488, Generator Loss: 6.2657670974731445\n",
            "Epoch 140/500, Discriminator Loss: 0.24854305386543274, Generator Loss: 6.654488563537598\n",
            "Epoch 141/500, Discriminator Loss: 0.0014772405847907066, Generator Loss: 8.06667709350586\n",
            "Epoch 142/500, Discriminator Loss: 8.188428182620555e-05, Generator Loss: 11.138818740844727\n",
            "Epoch 143/500, Discriminator Loss: 0.0013121499214321375, Generator Loss: 9.25706672668457\n",
            "Epoch 144/500, Discriminator Loss: 0.10736038535833359, Generator Loss: 5.036316871643066\n",
            "Epoch 145/500, Discriminator Loss: 0.005297184456139803, Generator Loss: 6.81720495223999\n",
            "Epoch 146/500, Discriminator Loss: 0.1094268187880516, Generator Loss: 4.380716323852539\n",
            "Epoch 147/500, Discriminator Loss: 0.0002889990864787251, Generator Loss: 11.378011703491211\n",
            "Epoch 148/500, Discriminator Loss: 0.03243757411837578, Generator Loss: 11.530238151550293\n",
            "Epoch 149/500, Discriminator Loss: 0.001057516084983945, Generator Loss: 9.683865547180176\n",
            "Epoch 150/500, Discriminator Loss: 0.0026214513927698135, Generator Loss: 7.234338283538818\n",
            "Epoch 151/500, Discriminator Loss: 0.17930574715137482, Generator Loss: 6.447631359100342\n",
            "Epoch 152/500, Discriminator Loss: 0.0032055291812866926, Generator Loss: 6.709460735321045\n",
            "Epoch 153/500, Discriminator Loss: 0.0004839670436922461, Generator Loss: 7.821989059448242\n",
            "Epoch 154/500, Discriminator Loss: 0.0003466654452495277, Generator Loss: 9.843372344970703\n",
            "Epoch 155/500, Discriminator Loss: 0.014295919798314571, Generator Loss: 6.160984992980957\n",
            "Epoch 156/500, Discriminator Loss: 0.0013026479864493012, Generator Loss: 9.571744918823242\n",
            "Epoch 157/500, Discriminator Loss: 0.0594317652285099, Generator Loss: 5.1252570152282715\n",
            "Epoch 158/500, Discriminator Loss: 0.0012176226591691375, Generator Loss: 11.768229484558105\n",
            "Epoch 159/500, Discriminator Loss: 0.1211516410112381, Generator Loss: 4.8431925773620605\n",
            "Epoch 160/500, Discriminator Loss: 0.017415866255760193, Generator Loss: 5.834412574768066\n",
            "Epoch 161/500, Discriminator Loss: 0.006553999613970518, Generator Loss: 6.215965270996094\n",
            "Epoch 162/500, Discriminator Loss: 0.0006366551388055086, Generator Loss: 9.197155952453613\n",
            "Epoch 163/500, Discriminator Loss: 0.009975184686481953, Generator Loss: 7.128561019897461\n",
            "Epoch 164/500, Discriminator Loss: 0.0019700326956808567, Generator Loss: 7.64800500869751\n",
            "Epoch 165/500, Discriminator Loss: 0.04997757077217102, Generator Loss: 12.266580581665039\n",
            "Epoch 166/500, Discriminator Loss: 0.026910696178674698, Generator Loss: 5.27878475189209\n",
            "Epoch 167/500, Discriminator Loss: 0.00574282743036747, Generator Loss: 9.672357559204102\n",
            "Epoch 168/500, Discriminator Loss: 0.03081700950860977, Generator Loss: 5.294183254241943\n",
            "Epoch 169/500, Discriminator Loss: 0.00044754607370123267, Generator Loss: 7.695134162902832\n",
            "Epoch 170/500, Discriminator Loss: 7.654004002688453e-05, Generator Loss: 10.823112487792969\n",
            "Epoch 171/500, Discriminator Loss: 1.799574056349229e-05, Generator Loss: 11.725725173950195\n",
            "Epoch 172/500, Discriminator Loss: 4.320569132687524e-05, Generator Loss: 11.917953491210938\n",
            "Epoch 173/500, Discriminator Loss: 0.0013139867223799229, Generator Loss: 7.835297107696533\n",
            "Epoch 174/500, Discriminator Loss: 0.6410119533538818, Generator Loss: 2.10518217086792\n",
            "Epoch 175/500, Discriminator Loss: 0.0006628625560551882, Generator Loss: 10.19740104675293\n",
            "Epoch 176/500, Discriminator Loss: 0.017404640093445778, Generator Loss: 7.776154041290283\n",
            "Epoch 177/500, Discriminator Loss: 0.019550558179616928, Generator Loss: 7.3961615562438965\n",
            "Epoch 178/500, Discriminator Loss: 0.0012436079559847713, Generator Loss: 8.303454399108887\n",
            "Epoch 179/500, Discriminator Loss: 0.000279423373285681, Generator Loss: 11.295275688171387\n",
            "Epoch 180/500, Discriminator Loss: 0.00032728706719353795, Generator Loss: 8.206676483154297\n",
            "Epoch 181/500, Discriminator Loss: 0.00028540357016026974, Generator Loss: 20.063814163208008\n",
            "Epoch 182/500, Discriminator Loss: 0.002277520950883627, Generator Loss: 7.737163543701172\n",
            "Epoch 183/500, Discriminator Loss: 0.002700205659493804, Generator Loss: 6.516721725463867\n",
            "Epoch 184/500, Discriminator Loss: 0.10117707401514053, Generator Loss: 5.313119888305664\n",
            "Epoch 185/500, Discriminator Loss: 0.0004511343140620738, Generator Loss: 9.714094161987305\n",
            "Epoch 186/500, Discriminator Loss: 0.0028617035131901503, Generator Loss: 7.198887825012207\n",
            "Epoch 187/500, Discriminator Loss: 0.0009528823429718614, Generator Loss: 8.709030151367188\n",
            "Epoch 188/500, Discriminator Loss: 0.0005590894725173712, Generator Loss: 10.563007354736328\n",
            "Epoch 189/500, Discriminator Loss: 0.013108954764902592, Generator Loss: 4.60019588470459\n",
            "Epoch 190/500, Discriminator Loss: 0.03138874098658562, Generator Loss: 7.016696929931641\n",
            "Epoch 191/500, Discriminator Loss: 0.12611247599124908, Generator Loss: 5.0031514167785645\n",
            "Epoch 192/500, Discriminator Loss: 2.8598503831744893e-06, Generator Loss: 18.031482696533203\n",
            "Epoch 193/500, Discriminator Loss: 0.002071287017315626, Generator Loss: 15.907108306884766\n",
            "Epoch 194/500, Discriminator Loss: 0.02072274312376976, Generator Loss: 6.478299140930176\n",
            "Epoch 195/500, Discriminator Loss: 0.003962025512009859, Generator Loss: 6.640091419219971\n",
            "Epoch 196/500, Discriminator Loss: 0.27026045322418213, Generator Loss: 40.147926330566406\n",
            "Epoch 197/500, Discriminator Loss: 0.027286384254693985, Generator Loss: 7.229860305786133\n",
            "Epoch 198/500, Discriminator Loss: 0.00024148260126821697, Generator Loss: 9.598767280578613\n",
            "Epoch 199/500, Discriminator Loss: 0.057963646948337555, Generator Loss: 6.571575164794922\n",
            "Epoch 200/500, Discriminator Loss: 3.797981116804294e-05, Generator Loss: 11.513090133666992\n",
            "Epoch 201/500, Discriminator Loss: 0.0824597105383873, Generator Loss: 7.312466621398926\n",
            "Epoch 202/500, Discriminator Loss: 0.049169283360242844, Generator Loss: 4.362510681152344\n",
            "Epoch 203/500, Discriminator Loss: 0.00018851729691959918, Generator Loss: 12.387568473815918\n",
            "Epoch 204/500, Discriminator Loss: 0.024893619120121002, Generator Loss: 7.948600769042969\n",
            "Epoch 205/500, Discriminator Loss: 0.003016564529389143, Generator Loss: 6.389779090881348\n",
            "Epoch 206/500, Discriminator Loss: 0.0002927709720097482, Generator Loss: 9.103100776672363\n",
            "Epoch 207/500, Discriminator Loss: 0.774655282497406, Generator Loss: 9.132966995239258\n",
            "Epoch 208/500, Discriminator Loss: 0.004025460686534643, Generator Loss: 25.003192901611328\n",
            "Epoch 209/500, Discriminator Loss: 0.000892670068424195, Generator Loss: 7.643742561340332\n",
            "Epoch 210/500, Discriminator Loss: 8.580856956541538e-06, Generator Loss: 16.855987548828125\n",
            "Epoch 211/500, Discriminator Loss: 0.38965582847595215, Generator Loss: 3.941857099533081\n",
            "Epoch 212/500, Discriminator Loss: 0.004266107454895973, Generator Loss: 6.606479644775391\n",
            "Epoch 213/500, Discriminator Loss: 7.178283340181224e-06, Generator Loss: 6.905717372894287\n",
            "Epoch 214/500, Discriminator Loss: 0.03426335006952286, Generator Loss: 8.100034713745117\n",
            "Epoch 215/500, Discriminator Loss: 0.0005989094497635961, Generator Loss: 9.181995391845703\n",
            "Epoch 216/500, Discriminator Loss: 0.00021330604795366526, Generator Loss: 12.540059089660645\n",
            "Epoch 217/500, Discriminator Loss: 0.004024047404527664, Generator Loss: 6.687554836273193\n",
            "Epoch 218/500, Discriminator Loss: 0.0017579176928848028, Generator Loss: 7.146642684936523\n",
            "Epoch 219/500, Discriminator Loss: 0.38248884677886963, Generator Loss: 30.447559356689453\n",
            "Epoch 220/500, Discriminator Loss: 0.0036146671045571566, Generator Loss: 7.8311686515808105\n",
            "Epoch 221/500, Discriminator Loss: 0.015201675705611706, Generator Loss: 9.024910926818848\n",
            "Epoch 222/500, Discriminator Loss: 9.990362741518766e-05, Generator Loss: 8.798544883728027\n",
            "Epoch 223/500, Discriminator Loss: 0.00545257143676281, Generator Loss: 5.402984619140625\n",
            "Epoch 224/500, Discriminator Loss: 9.469850192544982e-05, Generator Loss: 9.669134140014648\n",
            "Epoch 225/500, Discriminator Loss: 0.05607779324054718, Generator Loss: 5.7109222412109375\n",
            "Epoch 226/500, Discriminator Loss: 0.007841871120035648, Generator Loss: 8.329030990600586\n",
            "Epoch 227/500, Discriminator Loss: 0.0006520916940644383, Generator Loss: 13.071222305297852\n",
            "Epoch 228/500, Discriminator Loss: 3.539654471751419e-07, Generator Loss: 14.674227714538574\n",
            "Epoch 229/500, Discriminator Loss: 0.0001010358682833612, Generator Loss: 9.6636962890625\n",
            "Epoch 230/500, Discriminator Loss: 0.0009451310615986586, Generator Loss: 7.523600101470947\n",
            "Epoch 231/500, Discriminator Loss: 0.0016254730289801955, Generator Loss: 8.939754486083984\n",
            "Epoch 232/500, Discriminator Loss: 0.010333932004868984, Generator Loss: 8.018293380737305\n",
            "Epoch 233/500, Discriminator Loss: 0.014712907373905182, Generator Loss: 5.820346355438232\n",
            "Epoch 234/500, Discriminator Loss: 0.002275368431583047, Generator Loss: 6.545607089996338\n",
            "Epoch 235/500, Discriminator Loss: 6.227127613556149e-08, Generator Loss: 16.62619972229004\n",
            "Epoch 236/500, Discriminator Loss: 0.006880519911646843, Generator Loss: 7.496672630310059\n",
            "Epoch 237/500, Discriminator Loss: 4.820001413463615e-05, Generator Loss: 11.596755027770996\n",
            "Epoch 238/500, Discriminator Loss: 0.001715865102596581, Generator Loss: 7.964669704437256\n",
            "Epoch 239/500, Discriminator Loss: 0.0018773307092487812, Generator Loss: 8.36628532409668\n",
            "Epoch 240/500, Discriminator Loss: 0.01431770995259285, Generator Loss: 6.480844974517822\n",
            "Epoch 241/500, Discriminator Loss: 0.002093795221298933, Generator Loss: 6.253532409667969\n",
            "Epoch 242/500, Discriminator Loss: 0.00131813227199018, Generator Loss: 6.271812438964844\n",
            "Epoch 243/500, Discriminator Loss: 3.7149261515878607e-06, Generator Loss: 12.691791534423828\n",
            "Epoch 244/500, Discriminator Loss: 0.0019389584194868803, Generator Loss: 8.098472595214844\n",
            "Epoch 245/500, Discriminator Loss: 0.19459444284439087, Generator Loss: 7.197535514831543\n",
            "Epoch 246/500, Discriminator Loss: 0.0011306878877803683, Generator Loss: 8.075292587280273\n",
            "Epoch 247/500, Discriminator Loss: 2.895884790632408e-06, Generator Loss: 16.618423461914062\n",
            "Epoch 248/500, Discriminator Loss: 0.04383577033877373, Generator Loss: 6.867890357971191\n",
            "Epoch 249/500, Discriminator Loss: 0.016550494357943535, Generator Loss: 8.065576553344727\n",
            "Epoch 250/500, Discriminator Loss: 0.29929491877555847, Generator Loss: 5.044289588928223\n",
            "Epoch 251/500, Discriminator Loss: 0.008193369954824448, Generator Loss: 6.736255168914795\n",
            "Epoch 252/500, Discriminator Loss: 0.010993290692567825, Generator Loss: 50.731258392333984\n",
            "Epoch 253/500, Discriminator Loss: 0.032411105930805206, Generator Loss: 5.39054012298584\n",
            "Epoch 254/500, Discriminator Loss: 0.00013268717157188803, Generator Loss: 9.0055513381958\n",
            "Epoch 255/500, Discriminator Loss: 0.009930047206580639, Generator Loss: 5.190915107727051\n",
            "Epoch 256/500, Discriminator Loss: 0.0024432367645204067, Generator Loss: 6.444919586181641\n",
            "Epoch 257/500, Discriminator Loss: 7.009524779277854e-06, Generator Loss: 14.23265266418457\n",
            "Epoch 258/500, Discriminator Loss: 0.0073227472603321075, Generator Loss: 6.171683311462402\n",
            "Epoch 259/500, Discriminator Loss: 0.011307820677757263, Generator Loss: 7.64788818359375\n",
            "Epoch 260/500, Discriminator Loss: 0.009833408519625664, Generator Loss: 9.415242195129395\n",
            "Epoch 261/500, Discriminator Loss: 0.00039740826468914747, Generator Loss: 10.194765090942383\n",
            "Epoch 262/500, Discriminator Loss: 0.024167194962501526, Generator Loss: 14.725606918334961\n",
            "Epoch 263/500, Discriminator Loss: 0.18168500065803528, Generator Loss: 5.401021480560303\n",
            "Epoch 264/500, Discriminator Loss: 0.0005276285228319466, Generator Loss: 8.541467666625977\n",
            "Epoch 265/500, Discriminator Loss: 9.026160374681069e-10, Generator Loss: 20.353588104248047\n",
            "Epoch 266/500, Discriminator Loss: 0.002087765373289585, Generator Loss: 8.411361694335938\n",
            "Epoch 267/500, Discriminator Loss: 0.00019202871771994978, Generator Loss: 9.462879180908203\n",
            "Epoch 268/500, Discriminator Loss: 0.0007084591197781265, Generator Loss: 6.903804302215576\n",
            "Epoch 269/500, Discriminator Loss: 0.0005470230244100094, Generator Loss: 13.02351188659668\n",
            "Epoch 270/500, Discriminator Loss: 0.0025183118414133787, Generator Loss: 5.683564186096191\n",
            "Epoch 271/500, Discriminator Loss: 0.007136359345167875, Generator Loss: 6.719197750091553\n",
            "Epoch 272/500, Discriminator Loss: 1.831664420137713e-08, Generator Loss: 20.601219177246094\n",
            "Epoch 273/500, Discriminator Loss: 0.0029450329020619392, Generator Loss: 7.539620399475098\n",
            "Epoch 274/500, Discriminator Loss: 0.010604551993310452, Generator Loss: 6.410247802734375\n",
            "Epoch 275/500, Discriminator Loss: 0.0004469391133170575, Generator Loss: 8.294158935546875\n",
            "Epoch 276/500, Discriminator Loss: 0.0013298413250595331, Generator Loss: 8.804770469665527\n",
            "Epoch 277/500, Discriminator Loss: 0.0013532149605453014, Generator Loss: 8.211688995361328\n",
            "Epoch 278/500, Discriminator Loss: 0.02013978734612465, Generator Loss: 4.700913429260254\n",
            "Epoch 279/500, Discriminator Loss: 0.00010997734352713451, Generator Loss: 17.413787841796875\n",
            "Epoch 280/500, Discriminator Loss: 0.007989333011209965, Generator Loss: 6.363992691040039\n",
            "Epoch 281/500, Discriminator Loss: 2.0162166038062423e-05, Generator Loss: 41.10498046875\n",
            "Epoch 282/500, Discriminator Loss: 0.0003946128999814391, Generator Loss: 11.495428085327148\n",
            "Epoch 283/500, Discriminator Loss: 0.005154378246515989, Generator Loss: 6.8082427978515625\n",
            "Epoch 284/500, Discriminator Loss: 0.026051128283143044, Generator Loss: 7.464348793029785\n",
            "Epoch 285/500, Discriminator Loss: 0.012749280780553818, Generator Loss: 5.59450101852417\n",
            "Epoch 286/500, Discriminator Loss: 0.0008296499727293849, Generator Loss: 7.839646339416504\n",
            "Epoch 287/500, Discriminator Loss: 0.01236792840063572, Generator Loss: 27.931455612182617\n",
            "Epoch 288/500, Discriminator Loss: 0.0001734700781526044, Generator Loss: 9.07044792175293\n",
            "Epoch 289/500, Discriminator Loss: 0.01776779629290104, Generator Loss: 6.503050327301025\n",
            "Epoch 290/500, Discriminator Loss: 0.03455101326107979, Generator Loss: 8.382695198059082\n",
            "Epoch 291/500, Discriminator Loss: 0.013330214656889439, Generator Loss: 5.426507949829102\n",
            "Epoch 292/500, Discriminator Loss: 0.006247248966246843, Generator Loss: 8.617043495178223\n",
            "Epoch 293/500, Discriminator Loss: 4.939374923706055, Generator Loss: 42.132835388183594\n",
            "Epoch 294/500, Discriminator Loss: 4.594648635247722e-05, Generator Loss: 10.25180721282959\n",
            "Epoch 295/500, Discriminator Loss: 0.0023464581463485956, Generator Loss: 15.627752304077148\n",
            "Epoch 296/500, Discriminator Loss: 1.1956784874200821e-05, Generator Loss: 31.311141967773438\n",
            "Epoch 297/500, Discriminator Loss: 0.0009851644281297922, Generator Loss: 7.002280235290527\n",
            "Epoch 298/500, Discriminator Loss: 1.6210962712648325e-05, Generator Loss: 11.73499870300293\n",
            "Epoch 299/500, Discriminator Loss: 0.0002840920933522284, Generator Loss: 8.875651359558105\n",
            "Epoch 300/500, Discriminator Loss: 0.0028684763237833977, Generator Loss: 5.686576843261719\n",
            "Epoch 301/500, Discriminator Loss: 0.0002648498921189457, Generator Loss: 10.307722091674805\n",
            "Epoch 302/500, Discriminator Loss: 0.0037135269958525896, Generator Loss: 5.723712921142578\n",
            "Epoch 303/500, Discriminator Loss: 6.144731014501303e-05, Generator Loss: 12.171573638916016\n",
            "Epoch 304/500, Discriminator Loss: 0.0018131182296201587, Generator Loss: 7.545689105987549\n",
            "Epoch 305/500, Discriminator Loss: 0.0017362853977829218, Generator Loss: 8.579532623291016\n",
            "Epoch 306/500, Discriminator Loss: 0.0008053650381043553, Generator Loss: 7.510592460632324\n",
            "Epoch 307/500, Discriminator Loss: 0.0005923885619267821, Generator Loss: 9.303611755371094\n",
            "Epoch 308/500, Discriminator Loss: 0.005366118159145117, Generator Loss: 7.134800910949707\n",
            "Epoch 309/500, Discriminator Loss: 0.008584014140069485, Generator Loss: 6.290299415588379\n",
            "Epoch 310/500, Discriminator Loss: 0.00013788588694296777, Generator Loss: 10.156143188476562\n",
            "Epoch 311/500, Discriminator Loss: 0.32135677337646484, Generator Loss: 18.33866310119629\n",
            "Epoch 312/500, Discriminator Loss: 0.024935629218816757, Generator Loss: 8.103889465332031\n",
            "Epoch 313/500, Discriminator Loss: 0.0012238631024956703, Generator Loss: 8.22947883605957\n",
            "Epoch 314/500, Discriminator Loss: 0.0002857871004380286, Generator Loss: 10.057430267333984\n",
            "Epoch 315/500, Discriminator Loss: 8.913184137782082e-05, Generator Loss: 8.85961627960205\n",
            "Epoch 316/500, Discriminator Loss: 0.2693534195423126, Generator Loss: 10.675358772277832\n",
            "Epoch 317/500, Discriminator Loss: 0.00013777012645732611, Generator Loss: 10.37806510925293\n",
            "Epoch 318/500, Discriminator Loss: 5.957345365459332e-06, Generator Loss: 14.447532653808594\n",
            "Epoch 319/500, Discriminator Loss: 0.00854683481156826, Generator Loss: 6.365943908691406\n",
            "Epoch 320/500, Discriminator Loss: 0.0022443390917032957, Generator Loss: 7.561123371124268\n",
            "Epoch 321/500, Discriminator Loss: 0.00392849650233984, Generator Loss: 6.358819961547852\n",
            "Epoch 322/500, Discriminator Loss: 0.15508823096752167, Generator Loss: 5.884096622467041\n",
            "Epoch 323/500, Discriminator Loss: 0.0005132280057296157, Generator Loss: 8.59744644165039\n",
            "Epoch 324/500, Discriminator Loss: 0.0011799931526184082, Generator Loss: 6.813308238983154\n",
            "Epoch 325/500, Discriminator Loss: 0.005246246233582497, Generator Loss: 5.667218208312988\n",
            "Epoch 326/500, Discriminator Loss: 0.0009255983750335872, Generator Loss: 9.099430084228516\n",
            "Epoch 327/500, Discriminator Loss: 0.00039745718822814524, Generator Loss: 10.122957229614258\n",
            "Epoch 328/500, Discriminator Loss: 0.005272804759442806, Generator Loss: 7.5476393699646\n",
            "Epoch 329/500, Discriminator Loss: 7.405851647490636e-05, Generator Loss: 13.009071350097656\n",
            "Epoch 330/500, Discriminator Loss: 0.058724112808704376, Generator Loss: 6.87730598449707\n",
            "Epoch 331/500, Discriminator Loss: 0.00036937635741196573, Generator Loss: 10.81831169128418\n",
            "Epoch 332/500, Discriminator Loss: 0.0010626669973134995, Generator Loss: 7.625026226043701\n",
            "Epoch 333/500, Discriminator Loss: 5.808444257127121e-05, Generator Loss: 12.442846298217773\n",
            "Epoch 334/500, Discriminator Loss: 2.055460015526478e-07, Generator Loss: 18.26045036315918\n",
            "Epoch 335/500, Discriminator Loss: 4.941857696394436e-05, Generator Loss: 12.361652374267578\n",
            "Epoch 336/500, Discriminator Loss: 0.00079311802983284, Generator Loss: 8.282232284545898\n",
            "Epoch 337/500, Discriminator Loss: 0.00029572879429906607, Generator Loss: 10.099437713623047\n",
            "Epoch 338/500, Discriminator Loss: 7.234060017680122e-10, Generator Loss: 25.782272338867188\n",
            "Epoch 339/500, Discriminator Loss: 0.009862189181149006, Generator Loss: 6.757528305053711\n",
            "Epoch 340/500, Discriminator Loss: 4.189561408907139e-08, Generator Loss: 20.38384246826172\n",
            "Epoch 341/500, Discriminator Loss: 0.013296465389430523, Generator Loss: 5.341439723968506\n",
            "Epoch 342/500, Discriminator Loss: 0.0030387542210519314, Generator Loss: 6.998690128326416\n",
            "Epoch 343/500, Discriminator Loss: 0.0018316619098186493, Generator Loss: 7.433649063110352\n",
            "Epoch 344/500, Discriminator Loss: 0.0008214015979319811, Generator Loss: 7.537518501281738\n",
            "Epoch 345/500, Discriminator Loss: 0.01671326346695423, Generator Loss: 7.404204368591309\n",
            "Epoch 346/500, Discriminator Loss: 1.643344330659602e-05, Generator Loss: 10.529340744018555\n",
            "Epoch 347/500, Discriminator Loss: 0.004615255631506443, Generator Loss: 7.021569728851318\n",
            "Epoch 348/500, Discriminator Loss: 3.5607499739853665e-05, Generator Loss: 11.635540008544922\n",
            "Epoch 349/500, Discriminator Loss: 0.004539099521934986, Generator Loss: 6.5506486892700195\n",
            "Epoch 350/500, Discriminator Loss: 0.0026854099705815315, Generator Loss: 5.658443927764893\n",
            "Epoch 351/500, Discriminator Loss: 0.00020687254436779767, Generator Loss: 9.548492431640625\n",
            "Epoch 352/500, Discriminator Loss: 1.8426628685119795e-06, Generator Loss: 13.756307601928711\n",
            "Epoch 353/500, Discriminator Loss: 0.04375271871685982, Generator Loss: 7.79414176940918\n",
            "Epoch 354/500, Discriminator Loss: 0.048777613788843155, Generator Loss: 37.74916076660156\n",
            "Epoch 355/500, Discriminator Loss: 1.292505089622864e-07, Generator Loss: 22.209993362426758\n",
            "Epoch 356/500, Discriminator Loss: 8.626016345658627e-09, Generator Loss: 19.74896240234375\n",
            "Epoch 357/500, Discriminator Loss: 0.0015363282291218638, Generator Loss: 8.716939926147461\n",
            "Epoch 358/500, Discriminator Loss: 0.003146875649690628, Generator Loss: 7.788152694702148\n",
            "Epoch 359/500, Discriminator Loss: 0.0038049141876399517, Generator Loss: 6.039911270141602\n",
            "Epoch 360/500, Discriminator Loss: 7.982282113516703e-06, Generator Loss: 13.161697387695312\n",
            "Epoch 361/500, Discriminator Loss: 0.002040026942268014, Generator Loss: 6.404188632965088\n",
            "Epoch 362/500, Discriminator Loss: 0.005845037288963795, Generator Loss: 6.515831470489502\n",
            "Epoch 363/500, Discriminator Loss: 0.0006333740311674774, Generator Loss: 7.469170570373535\n",
            "Epoch 364/500, Discriminator Loss: 0.7372777462005615, Generator Loss: 19.53680419921875\n",
            "Epoch 365/500, Discriminator Loss: 9.579015750205144e-05, Generator Loss: 9.983588218688965\n",
            "Epoch 366/500, Discriminator Loss: 0.0001680934219621122, Generator Loss: 10.842885971069336\n",
            "Epoch 367/500, Discriminator Loss: 0.0007850214024074376, Generator Loss: 46.182350158691406\n",
            "Epoch 368/500, Discriminator Loss: 0.005721913650631905, Generator Loss: 5.349676132202148\n",
            "Epoch 369/500, Discriminator Loss: 0.025193512439727783, Generator Loss: 7.16556978225708\n",
            "Epoch 370/500, Discriminator Loss: 6.387521125361673e-07, Generator Loss: 16.661190032958984\n",
            "Epoch 371/500, Discriminator Loss: 0.0007825769716873765, Generator Loss: 8.956544876098633\n",
            "Epoch 372/500, Discriminator Loss: 0.0003828269545920193, Generator Loss: 8.50497817993164\n",
            "Epoch 373/500, Discriminator Loss: 0.0005247648805379868, Generator Loss: 8.959707260131836\n",
            "Epoch 374/500, Discriminator Loss: 0.000576953636482358, Generator Loss: 8.373289108276367\n",
            "Epoch 375/500, Discriminator Loss: 3.178603947162628e-06, Generator Loss: 15.531209945678711\n",
            "Epoch 376/500, Discriminator Loss: 3.734199651717063e-07, Generator Loss: 23.122852325439453\n",
            "Epoch 377/500, Discriminator Loss: 0.0024222650099545717, Generator Loss: 6.028982162475586\n",
            "Epoch 378/500, Discriminator Loss: 0.004158101975917816, Generator Loss: 6.447790145874023\n",
            "Epoch 379/500, Discriminator Loss: 0.006282155402004719, Generator Loss: 7.010802268981934\n",
            "Epoch 380/500, Discriminator Loss: 0.000306383881252259, Generator Loss: 8.711160659790039\n",
            "Epoch 381/500, Discriminator Loss: 6.937127182027325e-05, Generator Loss: 9.639198303222656\n",
            "Epoch 382/500, Discriminator Loss: 1.1454004379629623e-05, Generator Loss: 23.806976318359375\n",
            "Epoch 383/500, Discriminator Loss: 0.0018198631005361676, Generator Loss: 11.907008171081543\n",
            "Epoch 384/500, Discriminator Loss: 0.00031998060876503587, Generator Loss: 9.299520492553711\n",
            "Epoch 385/500, Discriminator Loss: 0.1354139745235443, Generator Loss: 8.06921672821045\n",
            "Epoch 386/500, Discriminator Loss: 0.0016902072820812464, Generator Loss: 9.392172813415527\n",
            "Epoch 387/500, Discriminator Loss: 4.7131970859481953e-07, Generator Loss: 16.216333389282227\n",
            "Epoch 388/500, Discriminator Loss: 0.010996541939675808, Generator Loss: 5.813775062561035\n",
            "Epoch 389/500, Discriminator Loss: 0.034678153693675995, Generator Loss: 6.741949558258057\n",
            "Epoch 390/500, Discriminator Loss: 0.0011389869032427669, Generator Loss: 6.327930450439453\n",
            "Epoch 391/500, Discriminator Loss: 0.0010684573790058494, Generator Loss: 7.014555931091309\n",
            "Epoch 392/500, Discriminator Loss: 1.1506131158967037e-05, Generator Loss: 13.237515449523926\n",
            "Epoch 393/500, Discriminator Loss: 8.41005294205388e-06, Generator Loss: 13.183536529541016\n",
            "Epoch 394/500, Discriminator Loss: 0.0026954524219036102, Generator Loss: 7.124081134796143\n",
            "Epoch 395/500, Discriminator Loss: 0.0013910592533648014, Generator Loss: 7.646488666534424\n",
            "Epoch 396/500, Discriminator Loss: 0.00406896136701107, Generator Loss: 5.622825622558594\n",
            "Epoch 397/500, Discriminator Loss: 0.0021870036143809557, Generator Loss: 8.171849250793457\n",
            "Epoch 398/500, Discriminator Loss: 0.0031545700039714575, Generator Loss: 8.123351097106934\n",
            "Epoch 399/500, Discriminator Loss: 5.606663762591779e-06, Generator Loss: 13.608222961425781\n",
            "Epoch 400/500, Discriminator Loss: 0.0004922447842545807, Generator Loss: 7.945112228393555\n",
            "Epoch 401/500, Discriminator Loss: 1.793710544006899e-05, Generator Loss: 12.79883861541748\n",
            "Epoch 402/500, Discriminator Loss: 0.003811763832345605, Generator Loss: 7.173116683959961\n",
            "Epoch 403/500, Discriminator Loss: 0.00022450173855759203, Generator Loss: 10.876449584960938\n",
            "Epoch 404/500, Discriminator Loss: 0.0017636297270655632, Generator Loss: 8.334127426147461\n",
            "Epoch 405/500, Discriminator Loss: 0.0004424785147421062, Generator Loss: 6.807178497314453\n",
            "Epoch 406/500, Discriminator Loss: 0.0006596599705517292, Generator Loss: 8.308348655700684\n",
            "Epoch 407/500, Discriminator Loss: 9.059869626071304e-06, Generator Loss: 12.440351486206055\n",
            "Epoch 408/500, Discriminator Loss: 0.050269998610019684, Generator Loss: 11.700515747070312\n",
            "Epoch 409/500, Discriminator Loss: 0.005749903619289398, Generator Loss: 6.269870758056641\n",
            "Epoch 410/500, Discriminator Loss: 0.006434798240661621, Generator Loss: 6.607470989227295\n",
            "Epoch 411/500, Discriminator Loss: 0.0001479244529036805, Generator Loss: 10.42940902709961\n",
            "Epoch 412/500, Discriminator Loss: 0.0002794899046421051, Generator Loss: 10.491018295288086\n",
            "Epoch 413/500, Discriminator Loss: 8.83598841028288e-05, Generator Loss: 10.958569526672363\n",
            "Epoch 414/500, Discriminator Loss: 0.0023516665678471327, Generator Loss: 8.045896530151367\n",
            "Epoch 415/500, Discriminator Loss: 0.04958854988217354, Generator Loss: 5.448274612426758\n",
            "Epoch 416/500, Discriminator Loss: 0.00019701902056112885, Generator Loss: 16.10167694091797\n",
            "Epoch 417/500, Discriminator Loss: 5.981740658356216e-10, Generator Loss: 24.14672088623047\n",
            "Epoch 418/500, Discriminator Loss: 0.0006662174127995968, Generator Loss: 7.936935901641846\n",
            "Epoch 419/500, Discriminator Loss: 0.18170863389968872, Generator Loss: 5.040588855743408\n",
            "Epoch 420/500, Discriminator Loss: 2.614227945230141e-09, Generator Loss: 38.053619384765625\n",
            "Epoch 421/500, Discriminator Loss: 4.547301671290632e-16, Generator Loss: 36.658050537109375\n",
            "Epoch 422/500, Discriminator Loss: 0.0010256509995087981, Generator Loss: 11.405842781066895\n",
            "Epoch 423/500, Discriminator Loss: 1.834436261560768e-05, Generator Loss: 16.034229278564453\n",
            "Epoch 424/500, Discriminator Loss: 0.0007985070697031915, Generator Loss: 9.068948745727539\n",
            "Epoch 425/500, Discriminator Loss: 0.0021659827325493097, Generator Loss: 11.867292404174805\n",
            "Epoch 426/500, Discriminator Loss: 6.906241651449818e-06, Generator Loss: 13.087434768676758\n",
            "Epoch 427/500, Discriminator Loss: 0.03752060607075691, Generator Loss: 7.641537189483643\n",
            "Epoch 428/500, Discriminator Loss: 0.001552625559270382, Generator Loss: 8.611711502075195\n",
            "Epoch 429/500, Discriminator Loss: 0.00015521635941695422, Generator Loss: 9.656982421875\n",
            "Epoch 430/500, Discriminator Loss: 0.003504842985421419, Generator Loss: 7.111024856567383\n",
            "Epoch 431/500, Discriminator Loss: 0.0004268618067726493, Generator Loss: 8.487796783447266\n",
            "Epoch 432/500, Discriminator Loss: 0.004344224464148283, Generator Loss: 5.733434200286865\n",
            "Epoch 433/500, Discriminator Loss: 8.162039739545435e-05, Generator Loss: 10.620189666748047\n",
            "Epoch 434/500, Discriminator Loss: 1.4665258277091198e-05, Generator Loss: 20.838777542114258\n",
            "Epoch 435/500, Discriminator Loss: 0.0039687082171440125, Generator Loss: 7.1459503173828125\n",
            "Epoch 436/500, Discriminator Loss: 0.0077850972302258015, Generator Loss: 5.757940292358398\n",
            "Epoch 437/500, Discriminator Loss: 9.466868391427852e-07, Generator Loss: 13.018341064453125\n",
            "Epoch 438/500, Discriminator Loss: 0.00026160036213696003, Generator Loss: 11.028368949890137\n",
            "Epoch 439/500, Discriminator Loss: 0.0009663665550760925, Generator Loss: 7.771848678588867\n",
            "Epoch 440/500, Discriminator Loss: 1.3771539247517395e-12, Generator Loss: 26.29193878173828\n",
            "Epoch 441/500, Discriminator Loss: 3.251053826147654e-08, Generator Loss: 18.684343338012695\n",
            "Epoch 442/500, Discriminator Loss: 8.377540507353842e-05, Generator Loss: 13.887299537658691\n",
            "Epoch 443/500, Discriminator Loss: 0.003563090693205595, Generator Loss: 7.077519416809082\n",
            "Epoch 444/500, Discriminator Loss: 3.387084689165931e-06, Generator Loss: 12.582403182983398\n",
            "Epoch 445/500, Discriminator Loss: 0.00031986815156415105, Generator Loss: 8.766317367553711\n",
            "Epoch 446/500, Discriminator Loss: 4.8064816127180165e-08, Generator Loss: 18.72412109375\n",
            "Epoch 447/500, Discriminator Loss: 0.0008555969106964767, Generator Loss: 10.408735275268555\n",
            "Epoch 448/500, Discriminator Loss: 0.0031683265697211027, Generator Loss: 6.477608680725098\n",
            "Epoch 449/500, Discriminator Loss: 6.39462741673924e-05, Generator Loss: 10.04248046875\n",
            "Epoch 450/500, Discriminator Loss: 0.27547284960746765, Generator Loss: 9.913097381591797\n",
            "Epoch 451/500, Discriminator Loss: 0.0003005110484082252, Generator Loss: 9.823628425598145\n",
            "Epoch 452/500, Discriminator Loss: 7.762716995785013e-05, Generator Loss: 17.04357147216797\n",
            "Epoch 453/500, Discriminator Loss: 1.8208368146588327e-06, Generator Loss: 13.70595645904541\n",
            "Epoch 454/500, Discriminator Loss: 0.0008238142472691834, Generator Loss: 8.27485466003418\n",
            "Epoch 455/500, Discriminator Loss: 0.0017768633551895618, Generator Loss: 5.9796342849731445\n",
            "Epoch 456/500, Discriminator Loss: 0.0021439497359097004, Generator Loss: 7.609919548034668\n",
            "Epoch 457/500, Discriminator Loss: 0.0006776133086532354, Generator Loss: 8.615396499633789\n",
            "Epoch 458/500, Discriminator Loss: 0.0008527797763235867, Generator Loss: 7.9047651290893555\n",
            "Epoch 459/500, Discriminator Loss: 0.00017027885769493878, Generator Loss: 9.669014930725098\n",
            "Epoch 460/500, Discriminator Loss: 1.3135543497355684e-07, Generator Loss: 20.090953826904297\n",
            "Epoch 461/500, Discriminator Loss: 3.909099177690223e-06, Generator Loss: 12.023565292358398\n",
            "Epoch 462/500, Discriminator Loss: 7.828876732673962e-06, Generator Loss: 14.548930168151855\n",
            "Epoch 463/500, Discriminator Loss: 4.9369078161491664e-14, Generator Loss: 37.60174560546875\n",
            "Epoch 464/500, Discriminator Loss: 0.00040786288445815444, Generator Loss: 14.5877046585083\n",
            "Epoch 465/500, Discriminator Loss: 0.6210764050483704, Generator Loss: 31.677574157714844\n",
            "Epoch 466/500, Discriminator Loss: 2.8110119387747545e-07, Generator Loss: 15.546464920043945\n",
            "Epoch 467/500, Discriminator Loss: 0.0014111101627349854, Generator Loss: 7.152936935424805\n",
            "Epoch 468/500, Discriminator Loss: 0.00021306760027073324, Generator Loss: 10.06303596496582\n",
            "Epoch 469/500, Discriminator Loss: 0.0014866376295685768, Generator Loss: 8.463420867919922\n",
            "Epoch 470/500, Discriminator Loss: 0.11125976592302322, Generator Loss: 6.4064621925354\n",
            "Epoch 471/500, Discriminator Loss: 7.058466877651881e-08, Generator Loss: 16.4208927154541\n",
            "Epoch 472/500, Discriminator Loss: 0.001605746103450656, Generator Loss: 7.052716255187988\n",
            "Epoch 473/500, Discriminator Loss: 1.985945891647134e-05, Generator Loss: 17.86701011657715\n",
            "Epoch 474/500, Discriminator Loss: 0.003038730239495635, Generator Loss: 6.41202974319458\n",
            "Epoch 475/500, Discriminator Loss: 9.121607035922352e-06, Generator Loss: 8.770487785339355\n",
            "Epoch 476/500, Discriminator Loss: 0.16376593708992004, Generator Loss: 2.6913535594940186\n",
            "Epoch 477/500, Discriminator Loss: 0.0006224177777767181, Generator Loss: 9.25017261505127\n",
            "Epoch 478/500, Discriminator Loss: 4.776020690044902e-10, Generator Loss: 20.114166259765625\n",
            "Epoch 479/500, Discriminator Loss: 2.1486998846853567e-08, Generator Loss: 32.036041259765625\n",
            "Epoch 480/500, Discriminator Loss: 0.0004744427860714495, Generator Loss: 8.571528434753418\n",
            "Epoch 481/500, Discriminator Loss: 0.00019016084843315184, Generator Loss: 10.749753952026367\n",
            "Epoch 482/500, Discriminator Loss: 0.00010547098645474762, Generator Loss: 9.187735557556152\n",
            "Epoch 483/500, Discriminator Loss: 3.0234035875764675e-05, Generator Loss: 11.076025009155273\n",
            "Epoch 484/500, Discriminator Loss: 0.0020976033993065357, Generator Loss: 6.544387340545654\n",
            "Epoch 485/500, Discriminator Loss: 0.00040506303776055574, Generator Loss: 4.969380855560303\n",
            "Epoch 486/500, Discriminator Loss: 0.007894297130405903, Generator Loss: 8.022306442260742\n",
            "Epoch 487/500, Discriminator Loss: 6.0349993873387575e-06, Generator Loss: 11.621467590332031\n",
            "Epoch 488/500, Discriminator Loss: 7.216106041596504e-07, Generator Loss: 56.83028793334961\n",
            "Epoch 489/500, Discriminator Loss: 4.235547024222797e-09, Generator Loss: 19.804977416992188\n",
            "Epoch 490/500, Discriminator Loss: 0.00017236200801562518, Generator Loss: 9.442237854003906\n",
            "Epoch 491/500, Discriminator Loss: 1.4583815925728327e-12, Generator Loss: 26.19563102722168\n",
            "Epoch 492/500, Discriminator Loss: 0.00010614548227749765, Generator Loss: 7.448513031005859\n",
            "Epoch 493/500, Discriminator Loss: 8.090617598099925e-07, Generator Loss: 17.471708297729492\n",
            "Epoch 494/500, Discriminator Loss: 0.0015559159219264984, Generator Loss: 8.458141326904297\n",
            "Epoch 495/500, Discriminator Loss: 0.0015548933297395706, Generator Loss: 8.838897705078125\n",
            "Epoch 496/500, Discriminator Loss: 7.872091373428702e-05, Generator Loss: 11.051934242248535\n",
            "Epoch 497/500, Discriminator Loss: 0.06468494236469269, Generator Loss: 7.296597480773926\n",
            "Epoch 498/500, Discriminator Loss: 1.0044905138784088e-05, Generator Loss: 11.320882797241211\n",
            "Epoch 499/500, Discriminator Loss: 3.2850400177864003e-09, Generator Loss: 19.193180084228516\n",
            "Epoch 500/500, Discriminator Loss: 0.002560279332101345, Generator Loss: 6.592782974243164\n"
          ]
        }
      ]
    },
    {
      "cell_type": "code",
      "source": [
        "plt.plot(d_losses, label='Discriminator Loss')\n",
        "plt.plot(g_losses, label='Generator Loss')\n",
        "plt.xlabel('Epoch')\n",
        "plt.ylabel('Loss')\n",
        "plt.title('Discriminator and Generator Losses')\n",
        "plt.legend()\n",
        "plt.show()"
      ],
      "metadata": {
        "execution": {
          "iopub.status.busy": "2024-05-03T00:02:26.103176Z",
          "iopub.execute_input": "2024-05-03T00:02:26.103697Z",
          "iopub.status.idle": "2024-05-03T00:02:26.40871Z",
          "shell.execute_reply.started": "2024-05-03T00:02:26.103661Z",
          "shell.execute_reply": "2024-05-03T00:02:26.402934Z"
        },
        "trusted": true,
        "id": "5psWaTnY6Ye8",
        "outputId": "43753649-f562-45f3-c527-6f27ea9ea5e2",
        "colab": {
          "base_uri": "https://localhost:8080/",
          "height": 472
        }
      },
      "execution_count": 89,
      "outputs": [
        {
          "output_type": "display_data",
          "data": {
            "text/plain": [
              "<Figure size 640x480 with 1 Axes>"
            ],
            "image/png": "[encoded data removed]"
          },
          "metadata": {}
        }
      ]
    },
    {
      "cell_type": "code",
      "source": [
        "gan.save('gan_model.keras')"
      ],
      "metadata": {
        "execution": {
          "iopub.status.busy": "2024-05-03T00:04:52.712825Z",
          "iopub.execute_input": "2024-05-03T00:04:52.713603Z",
          "iopub.status.idle": "2024-05-03T00:04:53.226595Z",
          "shell.execute_reply.started": "2024-05-03T00:04:52.713568Z",
          "shell.execute_reply": "2024-05-03T00:04:53.225677Z"
        },
        "trusted": true,
        "id": "AmJl7PA76Ye8",
        "colab": {
          "base_uri": "https://localhost:8080/"
        },
        "outputId": "aa422b37-7f4e-43ad-a9ea-485f1658b699"
      },
      "execution_count": 93,
      "outputs": [
        {
          "output_type": "stream",
          "name": "stderr",
          "text": [
            "/usr/local/lib/python3.10/dist-packages/keras/src/saving/saving_api.py:164: UserWarning: You are saving a model that has not yet been built. It might not contain any weights yet. Consider building the model first by calling it on some data.\n",
            "  saving_lib.save_model(model, filepath)\n",
            "WARNING:tensorflow:Model's `__init__()` arguments contain non-serializable objects. Please implement a `get_config()` method in the subclassed Model for proper saving and loading. Defaulting to empty config.\n",
            "WARNING:tensorflow:Model's `__init__()` arguments contain non-serializable objects. Please implement a `get_config()` method in the subclassed Model for proper saving and loading. Defaulting to empty config.\n",
            "WARNING:tensorflow:Model's `__init__()` arguments contain non-serializable objects. Please implement a `get_config()` method in the subclassed Model for proper saving and loading. Defaulting to empty config.\n"
          ]
        }
      ]
    },
    {
      "cell_type": "code",
      "source": [
        "train_images.shape[0]"
      ],
      "metadata": {
        "execution": {
          "iopub.status.busy": "2024-05-03T00:04:56.607428Z",
          "iopub.execute_input": "2024-05-03T00:04:56.608418Z",
          "iopub.status.idle": "2024-05-03T00:04:56.615072Z",
          "shell.execute_reply.started": "2024-05-03T00:04:56.608379Z",
          "shell.execute_reply": "2024-05-03T00:04:56.613947Z"
        },
        "trusted": true,
        "id": "6bivjQRr6Ye8",
        "outputId": "babf2430-1463-4abb-dd51-73a7da073641",
        "colab": {
          "base_uri": "https://localhost:8080/"
        }
      },
      "execution_count": 91,
      "outputs": [
        {
          "output_type": "execute_result",
          "data": {
            "text/plain": [
              "3602"
            ]
          },
          "metadata": {},
          "execution_count": 91
        }
      ]
    },
    {
      "cell_type": "markdown",
      "source": [
        "# Generated Images"
      ],
      "metadata": {
        "id": "CA--r4RO6Ye8"
      }
    },
    {
      "cell_type": "code",
      "source": [
        "import matplotlib.pyplot as plt\n",
        "import numpy as np\n",
        "\n",
        "num_images_to_display = 4\n",
        "random_indices = np.random.choice(train_images.shape[0], size=num_images_to_display, replace=False)\n",
        "random_real_images = train_images[random_indices]\n",
        "\n",
        "noise_dim = 100\n",
        "noise = np.random.normal(size=(num_images_to_display, noise_dim))\n",
        "generated_images = generator(noise, training=False)\n",
        "\n",
        "plt.figure(figsize=(10, 5))\n",
        "for i in range(num_images_to_display):\n",
        "    plt.subplot(2, num_images_to_display, i + 1)\n",
        "    plt.imshow((random_real_images[i] + 1) / 2)\n",
        "    plt.title(\"Real Image\")\n",
        "    plt.axis('off')\n",
        "    plt.subplot(2, num_images_to_display, num_images_to_display + i + 1)\n",
        "    plt.imshow((generated_images[i] + 1) / 2)\n",
        "    plt.title(\"Generated Image\")\n",
        "    plt.axis('off')\n",
        "\n",
        "plt.tight_layout()\n",
        "plt.show()"
      ],
      "metadata": {
        "execution": {
          "iopub.status.busy": "2024-05-03T00:05:04.105163Z",
          "iopub.execute_input": "2024-05-03T00:05:04.106051Z",
          "iopub.status.idle": "2024-05-03T00:05:04.422283Z",
          "shell.execute_reply.started": "2024-05-03T00:05:04.106011Z",
          "shell.execute_reply": "2024-05-03T00:05:04.421185Z"
        },
        "trusted": true,
        "id": "xA3gF00q6Ye8",
        "outputId": "497fb8a0-6411-44e1-858f-814894f77a14",
        "colab": {
          "base_uri": "https://localhost:8080/",
          "height": 510
        }
      },
      "execution_count": 92,
      "outputs": [
        {
          "output_type": "display_data",
          "data": {
            "text/plain": [
              "<Figure size 1000x500 with 8 Axes>"
            ],
            "image/png": "[encoded data removed]"
          },
          "metadata": {}
        }
      ]
    }
  ]
}